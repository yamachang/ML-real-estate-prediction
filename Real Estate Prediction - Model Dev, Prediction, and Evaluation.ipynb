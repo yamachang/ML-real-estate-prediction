{
 "cells": [
  {
   "cell_type": "markdown",
   "id": "1eb8fd0b",
   "metadata": {},
   "source": [
    "# Real Estate Prices Prediction"
   ]
  },
  {
   "cell_type": "markdown",
   "id": "3be662ed",
   "metadata": {},
   "source": [
    "## Project Scoping\n",
    "\n",
    "*Can we build a model to better predict transaction prices of real estate prices?*\n",
    "\n",
    "### Specifics\n",
    "\n",
    "1. Deliverable: Trained model file\n",
    "2. Machine Learning Task: Regression\n",
    "3. Target Variable: Transaction Price\n",
    "4. Input Features: 22 independent variable including `Public records for the property`, `Property characteristics`, `Location convenience scores`, `Neighborhood demographics`, `Schools`\n",
    "5. Win Condition: Mean Absolute Error (MAE) < $70,000\n",
    "\n",
    "### Outline\n",
    "\n",
    "1. Load packages and read data\n",
    "2. Data Summary\n",
    "3. Exploratory Data Analysis\n",
    "4. Data Cleaning\n",
    "5. Feature Engineering and Preprocessing\n",
    "6. Model Development\n",
    "7. Model Selection\n",
    "8. References"
   ]
  },
  {
   "cell_type": "markdown",
   "id": "244b0f93",
   "metadata": {},
   "source": [
    "## Load libraries and data"
   ]
  },
  {
   "cell_type": "code",
   "execution_count": 5,
   "id": "40e1e885",
   "metadata": {},
   "outputs": [],
   "source": [
    "#%load_ext watermark"
   ]
  },
  {
   "cell_type": "code",
   "execution_count": 6,
   "id": "a087752e",
   "metadata": {},
   "outputs": [],
   "source": [
    "### import the libraries\n",
    "\n",
    "# NumPy for numerical computing\n",
    "import numpy as np\n",
    "\n",
    "# Pandas for DataFrames\n",
    "import pandas as pd\n",
    "pd.set_option('display.max_columns', 100) # expands the maximum number of columns Pandas is allowed\n",
    "\n",
    "# Matplotlib for visualization\n",
    "from matplotlib import pyplot as plt\n",
    "# display plots in the notebook\n",
    "%matplotlib inline\n",
    "\n",
    "# Seaborn for easier visualization\n",
    "import seaborn as sns\n",
    "sns.set_style('darkgrid')\n",
    "\n",
    "# Import ML models from scikit-learn\n",
    "from sklearn.linear_model import LinearRegression\n",
    "from sklearn.linear_model import Lasso, Ridge, ElasticNet\n",
    "from sklearn.ensemble import RandomForestRegressor, GradientBoostingRegressor\n",
    "\n",
    "# Function for model selection, pipeline building, preprocessing, cv, and metrics\n",
    "from sklearn.model_selection import train_test_split\n",
    "from sklearn.pipeline import make_pipeline\n",
    "from sklearn.preprocessing import StandardScaler\n",
    "from sklearn.model_selection import GridSearchCV\n",
    "from sklearn.metrics import r2_score\n",
    "from sklearn.metrics import mean_absolute_error\n",
    "\n",
    "# Ignore ConvergenceWarning messages\n",
    "import warnings\n",
    "from sklearn.exceptions import ConvergenceWarning\n",
    "warnings.simplefilter(action='ignore', category=ConvergenceWarning)"
   ]
  },
  {
   "cell_type": "code",
   "execution_count": 7,
   "id": "2c608e13",
   "metadata": {},
   "outputs": [
    {
     "name": "stdout",
     "output_type": "stream",
     "text": [
      "Author: Yama Chang\n",
      "\n",
      "Python implementation: CPython\n",
      "Python version       : 3.10.9\n",
      "IPython version      : 8.10.0\n",
      "\n",
      "pandas   : 1.5.3\n",
      "numpy    : 1.23.5\n",
      "sklearn  : 1.2.1\n",
      "watermark: 2.4.3\n",
      "\n"
     ]
    }
   ],
   "source": [
    "%watermark -a 'Yama Chang' -d -t -v -p pandas,numpy,sklearn,watermark"
   ]
  },
  {
   "cell_type": "code",
   "execution_count": 8,
   "id": "66c77578",
   "metadata": {},
   "outputs": [
    {
     "name": "stdout",
     "output_type": "stream",
     "text": [
      "REIT ABT has 1863 data points with 40 variables each.\n"
     ]
    }
   ],
   "source": [
    "### import the cleaned dataset\n",
    "\n",
    "# Load real estate data from CSV\n",
    "df = pd.read_csv('./data/analytical_base_table.csv')\n",
    "\n",
    "# Success\n",
    "print(\"REIT ABT has {} data points with {} variables each.\".format(*df.shape))"
   ]
  },
  {
   "cell_type": "markdown",
   "id": "4e2c1c15",
   "metadata": {},
   "source": [
    "## Model Development"
   ]
  },
  {
   "cell_type": "markdown",
   "id": "589b3ac0",
   "metadata": {},
   "source": [
    "First, we want to split out separate training and test subsets of our dataset, and create target variable (y) and input feature (x)"
   ]
  },
  {
   "cell_type": "code",
   "execution_count": 9,
   "id": "2853a958",
   "metadata": {},
   "outputs": [],
   "source": [
    "# Create separate object for target variable/features\n",
    "y = df.tx_price\n",
    "x = df.drop('tx_price', axis=1)"
   ]
  },
  {
   "cell_type": "code",
   "execution_count": 10,
   "id": "5ffa57d0",
   "metadata": {},
   "outputs": [
    {
     "name": "stdout",
     "output_type": "stream",
     "text": [
      "1490 373 1490 373\n"
     ]
    }
   ],
   "source": [
    "# split out separate training and test subsets of our dataset\n",
    "x_train, x_test, y_train, y_test = train_test_split(x, y, \n",
    "                                                   test_size=0.2,\n",
    "                                                   random_state=1234)\n",
    "\n",
    "# check length of each df\n",
    "print( len(x_train), len(x_test), len(y_train), len(y_test) )"
   ]
  },
  {
   "cell_type": "markdown",
   "id": "6a9909e9",
   "metadata": {},
   "source": [
    "### 1. Preprocessing & Pipelines\n",
    "\n",
    "We want to preprocess the data by transforming the data into a format that will be more suitable for the model. Here, we may want to do standardization. Additionally, we want to first import the pipeline tool, and then import the preprocessing techniques we want to use."
   ]
  },
  {
   "cell_type": "code",
   "execution_count": 11,
   "id": "541f23df",
   "metadata": {},
   "outputs": [],
   "source": [
    "# Create pipelines dictionary\n",
    "pipelines = {\n",
    "    'lasso' : make_pipeline(StandardScaler(), Lasso(random_state=123)),\n",
    "    'ridge' : make_pipeline(StandardScaler(), Ridge(random_state=123)),\n",
    "    'enet'  : make_pipeline(StandardScaler(), ElasticNet(random_state=123)),\n",
    "    'rf' : make_pipeline(StandardScaler(), RandomForestRegressor(random_state=123)),\n",
    "    'gb' : make_pipeline(StandardScaler(), GradientBoostingRegressor(random_state=123))\n",
    "}"
   ]
  },
  {
   "cell_type": "code",
   "execution_count": 12,
   "id": "55ccd909",
   "metadata": {},
   "outputs": [
    {
     "data": {
      "text/plain": [
       "{'memory': None,\n",
       " 'steps': [('standardscaler', StandardScaler()),\n",
       "  ('lasso', Lasso(random_state=123))],\n",
       " 'verbose': False,\n",
       " 'standardscaler': StandardScaler(),\n",
       " 'lasso': Lasso(random_state=123),\n",
       " 'standardscaler__copy': True,\n",
       " 'standardscaler__with_mean': True,\n",
       " 'standardscaler__with_std': True,\n",
       " 'lasso__alpha': 1.0,\n",
       " 'lasso__copy_X': True,\n",
       " 'lasso__fit_intercept': True,\n",
       " 'lasso__max_iter': 1000,\n",
       " 'lasso__positive': False,\n",
       " 'lasso__precompute': False,\n",
       " 'lasso__random_state': 123,\n",
       " 'lasso__selection': 'cyclic',\n",
       " 'lasso__tol': 0.0001,\n",
       " 'lasso__warm_start': False}"
      ]
     },
     "execution_count": 12,
     "metadata": {},
     "output_type": "execute_result"
    }
   ],
   "source": [
    "# Check\n",
    "pipelines['lasso'].get_params()"
   ]
  },
  {
   "cell_type": "markdown",
   "id": "d3dc8d8e",
   "metadata": {},
   "source": [
    "### 2. Tuning Hyperparameters"
   ]
  },
  {
   "cell_type": "code",
   "execution_count": 13,
   "id": "fb1a6ed7",
   "metadata": {},
   "outputs": [],
   "source": [
    "# Declare hyperparameters to tune\n",
    "# Lasso hyperparameter grid\n",
    "lasso_hyperparameters = {\n",
    "    'lasso__alpha' : [0.001, 0.005, 0.01, 0.05, 0.1, 0.5, 1, 5, 10] \n",
    "}\n",
    "\n",
    "\n",
    "# Ridge hyperparameter grid\n",
    "ridge_hyperparameters = {\n",
    "    'ridge__alpha' : [0.001, 0.005, 0.01, 0.05, 0.1, 0.5, 1, 5, 10]  \n",
    "}\n",
    "\n",
    "# Elastic Net hyperparameter grid\n",
    "enet_hyperparameters = {\n",
    "    'elasticnet__alpha' : [0.001, 0.005, 0.01, 0.05, 0.1, 0.5, 1, 5, 10],\n",
    "    'elasticnet__l1_ratio' : [0.1, 0.3, 0.5, 0.7, 0.9]  \n",
    "}\n",
    "\n",
    "# Random Forest hyperparameter grid\n",
    "rf_hyperparameters = {\n",
    "    'randomforestregressor__n_estimators': [100, 200],\n",
    "    'randomforestregressor__max_features': ['auto', 'sqrt', 0.33]\n",
    "}\n",
    "\n",
    "# Gradient Boosting Tree hyperparameter grid\n",
    "gb_hyperparameters = {\n",
    "    'gradientboostingregressor__n_estimators': [100, 200],\n",
    "    'gradientboostingregressor__learning_rate': [0.05, 0.1, 0.2],\n",
    "    'gradientboostingregressor__max_depth': [1, 3, 5]\n",
    "}"
   ]
  },
  {
   "cell_type": "code",
   "execution_count": 14,
   "id": "b1542899",
   "metadata": {},
   "outputs": [],
   "source": [
    "# Create hyperparameters dictionary\n",
    "hyperparameters = {\n",
    "    'lasso' : lasso_hyperparameters,\n",
    "    'ridge' : ridge_hyperparameters,\n",
    "    'enet' : enet_hyperparameters,\n",
    "    'rf' : rf_hyperparameters,\n",
    "    'gb' : gb_hyperparameters\n",
    "}"
   ]
  },
  {
   "cell_type": "code",
   "execution_count": 15,
   "id": "d25c79f6",
   "metadata": {},
   "outputs": [
    {
     "data": {
      "text/plain": [
       "dict_keys(['lasso', 'ridge', 'enet', 'rf', 'gb'])"
      ]
     },
     "execution_count": 15,
     "metadata": {},
     "output_type": "execute_result"
    }
   ],
   "source": [
    "# Check hyperparameters keys\n",
    "hyperparameters.keys()\n",
    "pipelines.keys()"
   ]
  },
  {
   "cell_type": "code",
   "execution_count": 16,
   "id": "d9b009e6",
   "metadata": {},
   "outputs": [
    {
     "name": "stdout",
     "output_type": "stream",
     "text": [
      "enet was found in hyperparameters, and it is a grid.\n",
      "gb was found in hyperparameters, and it is a grid.\n",
      "ridge was found in hyperparameters, and it is a grid.\n",
      "rf was found in hyperparameters, and it is a grid.\n",
      "lasso was found in hyperparameters, and it is a grid.\n"
     ]
    }
   ],
   "source": [
    "# Check that hyperparameters is set up correctly\n",
    "for key in ['enet', 'gb', 'ridge', 'rf', 'lasso']:\n",
    "    if key in hyperparameters:\n",
    "        if type(hyperparameters[key]) is dict:\n",
    "            print( key, 'was found in hyperparameters, and it is a grid.' )\n",
    "        else:\n",
    "            print( key, 'was found in hyperparameters, but it is not a grid.' )\n",
    "    else:\n",
    "        print( key, 'was not found in hyperparameters')"
   ]
  },
  {
   "cell_type": "markdown",
   "id": "12380039",
   "metadata": {},
   "source": [
    "### 3. Fit and tune models"
   ]
  },
  {
   "cell_type": "code",
   "execution_count": 17,
   "id": "0102a855",
   "metadata": {},
   "outputs": [
    {
     "name": "stderr",
     "output_type": "stream",
     "text": [
      "/Users/yamachang/anaconda3/lib/python3.10/site-packages/sklearn/linear_model/_coordinate_descent.py:631: ConvergenceWarning: Objective did not converge. You might want to increase the number of iterations, check the scale of the features or consider increasing regularisation. Duality gap: 9.188e+12, tolerance: 3.199e+09\n",
      "  model = cd_fast.enet_coordinate_descent(\n",
      "/Users/yamachang/anaconda3/lib/python3.10/site-packages/sklearn/linear_model/_coordinate_descent.py:631: ConvergenceWarning: Objective did not converge. You might want to increase the number of iterations, check the scale of the features or consider increasing regularisation. Duality gap: 1.608e+12, tolerance: 3.151e+09\n",
      "  model = cd_fast.enet_coordinate_descent(\n",
      "/Users/yamachang/anaconda3/lib/python3.10/site-packages/sklearn/linear_model/_coordinate_descent.py:631: ConvergenceWarning: Objective did not converge. You might want to increase the number of iterations, check the scale of the features or consider increasing regularisation. Duality gap: 8.265e+12, tolerance: 3.171e+09\n",
      "  model = cd_fast.enet_coordinate_descent(\n",
      "/Users/yamachang/anaconda3/lib/python3.10/site-packages/sklearn/linear_model/_coordinate_descent.py:631: ConvergenceWarning: Objective did not converge. You might want to increase the number of iterations, check the scale of the features or consider increasing regularisation. Duality gap: 9.119e+12, tolerance: 3.178e+09\n",
      "  model = cd_fast.enet_coordinate_descent(\n",
      "/Users/yamachang/anaconda3/lib/python3.10/site-packages/sklearn/linear_model/_coordinate_descent.py:631: ConvergenceWarning: Objective did not converge. You might want to increase the number of iterations, check the scale of the features or consider increasing regularisation. Duality gap: 6.869e+12, tolerance: 3.195e+09\n",
      "  model = cd_fast.enet_coordinate_descent(\n",
      "/Users/yamachang/anaconda3/lib/python3.10/site-packages/sklearn/linear_model/_coordinate_descent.py:631: ConvergenceWarning: Objective did not converge. You might want to increase the number of iterations, check the scale of the features or consider increasing regularisation. Duality gap: 8.942e+12, tolerance: 3.141e+09\n",
      "  model = cd_fast.enet_coordinate_descent(\n",
      "/Users/yamachang/anaconda3/lib/python3.10/site-packages/sklearn/linear_model/_coordinate_descent.py:631: ConvergenceWarning: Objective did not converge. You might want to increase the number of iterations, check the scale of the features or consider increasing regularisation. Duality gap: 8.669e+12, tolerance: 3.184e+09\n",
      "  model = cd_fast.enet_coordinate_descent(\n",
      "/Users/yamachang/anaconda3/lib/python3.10/site-packages/sklearn/linear_model/_coordinate_descent.py:631: ConvergenceWarning: Objective did not converge. You might want to increase the number of iterations, check the scale of the features or consider increasing regularisation. Duality gap: 8.991e+12, tolerance: 3.117e+09\n",
      "  model = cd_fast.enet_coordinate_descent(\n",
      "/Users/yamachang/anaconda3/lib/python3.10/site-packages/sklearn/linear_model/_coordinate_descent.py:631: ConvergenceWarning: Objective did not converge. You might want to increase the number of iterations, check the scale of the features or consider increasing regularisation. Duality gap: 8.408e+12, tolerance: 3.192e+09\n",
      "  model = cd_fast.enet_coordinate_descent(\n",
      "/Users/yamachang/anaconda3/lib/python3.10/site-packages/sklearn/linear_model/_coordinate_descent.py:631: ConvergenceWarning: Objective did not converge. You might want to increase the number of iterations, check the scale of the features or consider increasing regularisation. Duality gap: 8.981e+12, tolerance: 3.188e+09\n",
      "  model = cd_fast.enet_coordinate_descent(\n",
      "/Users/yamachang/anaconda3/lib/python3.10/site-packages/sklearn/linear_model/_coordinate_descent.py:631: ConvergenceWarning: Objective did not converge. You might want to increase the number of iterations, check the scale of the features or consider increasing regularisation. Duality gap: 5.013e+12, tolerance: 3.171e+09\n",
      "  model = cd_fast.enet_coordinate_descent(\n",
      "/Users/yamachang/anaconda3/lib/python3.10/site-packages/sklearn/linear_model/_coordinate_descent.py:631: ConvergenceWarning: Objective did not converge. You might want to increase the number of iterations, check the scale of the features or consider increasing regularisation. Duality gap: 2.841e+12, tolerance: 3.195e+09\n",
      "  model = cd_fast.enet_coordinate_descent(\n",
      "/Users/yamachang/anaconda3/lib/python3.10/site-packages/sklearn/linear_model/_coordinate_descent.py:631: ConvergenceWarning: Objective did not converge. You might want to increase the number of iterations, check the scale of the features or consider increasing regularisation. Duality gap: 6.320e+12, tolerance: 3.184e+09\n",
      "  model = cd_fast.enet_coordinate_descent(\n",
      "/Users/yamachang/anaconda3/lib/python3.10/site-packages/sklearn/linear_model/_coordinate_descent.py:631: ConvergenceWarning: Objective did not converge. You might want to increase the number of iterations, check the scale of the features or consider increasing regularisation. Duality gap: 7.539e+12, tolerance: 3.199e+09\n",
      "  model = cd_fast.enet_coordinate_descent(\n",
      "/Users/yamachang/anaconda3/lib/python3.10/site-packages/sklearn/linear_model/_coordinate_descent.py:631: ConvergenceWarning: Objective did not converge. You might want to increase the number of iterations, check the scale of the features or consider increasing regularisation. Duality gap: 3.638e+12, tolerance: 3.192e+09\n",
      "  model = cd_fast.enet_coordinate_descent(\n",
      "/Users/yamachang/anaconda3/lib/python3.10/site-packages/sklearn/linear_model/_coordinate_descent.py:631: ConvergenceWarning: Objective did not converge. You might want to increase the number of iterations, check the scale of the features or consider increasing regularisation. Duality gap: 6.542e+12, tolerance: 3.188e+09\n",
      "  model = cd_fast.enet_coordinate_descent(\n",
      "/Users/yamachang/anaconda3/lib/python3.10/site-packages/sklearn/linear_model/_coordinate_descent.py:631: ConvergenceWarning: Objective did not converge. You might want to increase the number of iterations, check the scale of the features or consider increasing regularisation. Duality gap: 1.602e+12, tolerance: 3.151e+09\n",
      "  model = cd_fast.enet_coordinate_descent(\n",
      "/Users/yamachang/anaconda3/lib/python3.10/site-packages/sklearn/linear_model/_coordinate_descent.py:631: ConvergenceWarning: Objective did not converge. You might want to increase the number of iterations, check the scale of the features or consider increasing regularisation. Duality gap: 7.700e+12, tolerance: 3.178e+09\n",
      "  model = cd_fast.enet_coordinate_descent(\n",
      "/Users/yamachang/anaconda3/lib/python3.10/site-packages/sklearn/linear_model/_coordinate_descent.py:631: ConvergenceWarning: Objective did not converge. You might want to increase the number of iterations, check the scale of the features or consider increasing regularisation. Duality gap: 7.240e+12, tolerance: 3.141e+09\n",
      "  model = cd_fast.enet_coordinate_descent(\n",
      "/Users/yamachang/anaconda3/lib/python3.10/site-packages/sklearn/linear_model/_coordinate_descent.py:631: ConvergenceWarning: Objective did not converge. You might want to increase the number of iterations, check the scale of the features or consider increasing regularisation. Duality gap: 7.140e+12, tolerance: 3.117e+09\n",
      "  model = cd_fast.enet_coordinate_descent(\n",
      "/Users/yamachang/anaconda3/lib/python3.10/site-packages/sklearn/linear_model/_coordinate_descent.py:631: ConvergenceWarning: Objective did not converge. You might want to increase the number of iterations, check the scale of the features or consider increasing regularisation. Duality gap: 3.077e+12, tolerance: 3.171e+09\n",
      "  model = cd_fast.enet_coordinate_descent(\n",
      "/Users/yamachang/anaconda3/lib/python3.10/site-packages/sklearn/linear_model/_coordinate_descent.py:631: ConvergenceWarning: Objective did not converge. You might want to increase the number of iterations, check the scale of the features or consider increasing regularisation. Duality gap: 6.034e+12, tolerance: 3.199e+09\n",
      "  model = cd_fast.enet_coordinate_descent(\n",
      "/Users/yamachang/anaconda3/lib/python3.10/site-packages/sklearn/linear_model/_coordinate_descent.py:631: ConvergenceWarning: Objective did not converge. You might want to increase the number of iterations, check the scale of the features or consider increasing regularisation. Duality gap: 1.358e+12, tolerance: 3.195e+09\n",
      "  model = cd_fast.enet_coordinate_descent(\n",
      "/Users/yamachang/anaconda3/lib/python3.10/site-packages/sklearn/linear_model/_coordinate_descent.py:631: ConvergenceWarning: Objective did not converge. You might want to increase the number of iterations, check the scale of the features or consider increasing regularisation. Duality gap: 4.520e+12, tolerance: 3.184e+09\n",
      "  model = cd_fast.enet_coordinate_descent(\n",
      "/Users/yamachang/anaconda3/lib/python3.10/site-packages/sklearn/linear_model/_coordinate_descent.py:631: ConvergenceWarning: Objective did not converge. You might want to increase the number of iterations, check the scale of the features or consider increasing regularisation. Duality gap: 1.613e+12, tolerance: 3.192e+09\n",
      "  model = cd_fast.enet_coordinate_descent(\n",
      "/Users/yamachang/anaconda3/lib/python3.10/site-packages/sklearn/linear_model/_coordinate_descent.py:631: ConvergenceWarning: Objective did not converge. You might want to increase the number of iterations, check the scale of the features or consider increasing regularisation. Duality gap: 4.704e+12, tolerance: 3.188e+09\n",
      "  model = cd_fast.enet_coordinate_descent(\n",
      "/Users/yamachang/anaconda3/lib/python3.10/site-packages/sklearn/linear_model/_coordinate_descent.py:631: ConvergenceWarning: Objective did not converge. You might want to increase the number of iterations, check the scale of the features or consider increasing regularisation. Duality gap: 1.601e+12, tolerance: 3.151e+09\n",
      "  model = cd_fast.enet_coordinate_descent(\n",
      "/Users/yamachang/anaconda3/lib/python3.10/site-packages/sklearn/linear_model/_coordinate_descent.py:631: ConvergenceWarning: Objective did not converge. You might want to increase the number of iterations, check the scale of the features or consider increasing regularisation. Duality gap: 5.718e+12, tolerance: 3.141e+09\n",
      "  model = cd_fast.enet_coordinate_descent(\n",
      "/Users/yamachang/anaconda3/lib/python3.10/site-packages/sklearn/linear_model/_coordinate_descent.py:631: ConvergenceWarning: Objective did not converge. You might want to increase the number of iterations, check the scale of the features or consider increasing regularisation. Duality gap: 5.531e+12, tolerance: 3.117e+09\n",
      "  model = cd_fast.enet_coordinate_descent(\n",
      "/Users/yamachang/anaconda3/lib/python3.10/site-packages/sklearn/linear_model/_coordinate_descent.py:631: ConvergenceWarning: Objective did not converge. You might want to increase the number of iterations, check the scale of the features or consider increasing regularisation. Duality gap: 6.347e+12, tolerance: 3.178e+09\n",
      "  model = cd_fast.enet_coordinate_descent(\n",
      "/Users/yamachang/anaconda3/lib/python3.10/site-packages/sklearn/linear_model/_coordinate_descent.py:631: ConvergenceWarning: Objective did not converge. You might want to increase the number of iterations, check the scale of the features or consider increasing regularisation. Duality gap: 4.107e+11, tolerance: 3.171e+09\n",
      "  model = cd_fast.enet_coordinate_descent(\n",
      "/Users/yamachang/anaconda3/lib/python3.10/site-packages/sklearn/linear_model/_coordinate_descent.py:631: ConvergenceWarning: Objective did not converge. You might want to increase the number of iterations, check the scale of the features or consider increasing regularisation. Duality gap: 3.842e+11, tolerance: 3.195e+09\n",
      "  model = cd_fast.enet_coordinate_descent(\n",
      "/Users/yamachang/anaconda3/lib/python3.10/site-packages/sklearn/linear_model/_coordinate_descent.py:631: ConvergenceWarning: Objective did not converge. You might want to increase the number of iterations, check the scale of the features or consider increasing regularisation. Duality gap: 9.041e+11, tolerance: 3.184e+09\n",
      "  model = cd_fast.enet_coordinate_descent(\n",
      "/Users/yamachang/anaconda3/lib/python3.10/site-packages/sklearn/linear_model/_coordinate_descent.py:631: ConvergenceWarning: Objective did not converge. You might want to increase the number of iterations, check the scale of the features or consider increasing regularisation. Duality gap: 1.776e+12, tolerance: 3.199e+09\n",
      "  model = cd_fast.enet_coordinate_descent(\n",
      "/Users/yamachang/anaconda3/lib/python3.10/site-packages/sklearn/linear_model/_coordinate_descent.py:631: ConvergenceWarning: Objective did not converge. You might want to increase the number of iterations, check the scale of the features or consider increasing regularisation. Duality gap: 1.629e+12, tolerance: 3.188e+09\n",
      "  model = cd_fast.enet_coordinate_descent(\n"
     ]
    },
    {
     "name": "stderr",
     "output_type": "stream",
     "text": [
      "/Users/yamachang/anaconda3/lib/python3.10/site-packages/sklearn/linear_model/_coordinate_descent.py:631: ConvergenceWarning: Objective did not converge. You might want to increase the number of iterations, check the scale of the features or consider increasing regularisation. Duality gap: 1.603e+12, tolerance: 3.192e+09\n",
      "  model = cd_fast.enet_coordinate_descent(\n",
      "/Users/yamachang/anaconda3/lib/python3.10/site-packages/sklearn/linear_model/_coordinate_descent.py:631: ConvergenceWarning: Objective did not converge. You might want to increase the number of iterations, check the scale of the features or consider increasing regularisation. Duality gap: 2.104e+12, tolerance: 3.178e+09\n",
      "  model = cd_fast.enet_coordinate_descent(\n",
      "/Users/yamachang/anaconda3/lib/python3.10/site-packages/sklearn/linear_model/_coordinate_descent.py:631: ConvergenceWarning: Objective did not converge. You might want to increase the number of iterations, check the scale of the features or consider increasing regularisation. Duality gap: 1.441e+12, tolerance: 3.117e+09\n",
      "  model = cd_fast.enet_coordinate_descent(\n",
      "/Users/yamachang/anaconda3/lib/python3.10/site-packages/sklearn/linear_model/_coordinate_descent.py:631: ConvergenceWarning: Objective did not converge. You might want to increase the number of iterations, check the scale of the features or consider increasing regularisation. Duality gap: 1.599e+12, tolerance: 3.141e+09\n",
      "  model = cd_fast.enet_coordinate_descent(\n",
      "/Users/yamachang/anaconda3/lib/python3.10/site-packages/sklearn/linear_model/_coordinate_descent.py:631: ConvergenceWarning: Objective did not converge. You might want to increase the number of iterations, check the scale of the features or consider increasing regularisation. Duality gap: 3.144e+11, tolerance: 3.171e+09\n",
      "  model = cd_fast.enet_coordinate_descent(\n",
      "/Users/yamachang/anaconda3/lib/python3.10/site-packages/sklearn/linear_model/_coordinate_descent.py:631: ConvergenceWarning: Objective did not converge. You might want to increase the number of iterations, check the scale of the features or consider increasing regularisation. Duality gap: 1.600e+12, tolerance: 3.151e+09\n",
      "  model = cd_fast.enet_coordinate_descent(\n",
      "/Users/yamachang/anaconda3/lib/python3.10/site-packages/sklearn/linear_model/_coordinate_descent.py:631: ConvergenceWarning: Objective did not converge. You might want to increase the number of iterations, check the scale of the features or consider increasing regularisation. Duality gap: 5.911e+11, tolerance: 3.184e+09\n",
      "  model = cd_fast.enet_coordinate_descent(\n",
      "/Users/yamachang/anaconda3/lib/python3.10/site-packages/sklearn/linear_model/_coordinate_descent.py:631: ConvergenceWarning: Objective did not converge. You might want to increase the number of iterations, check the scale of the features or consider increasing regularisation. Duality gap: 3.835e+11, tolerance: 3.195e+09\n",
      "  model = cd_fast.enet_coordinate_descent(\n",
      "/Users/yamachang/anaconda3/lib/python3.10/site-packages/sklearn/linear_model/_coordinate_descent.py:631: ConvergenceWarning: Objective did not converge. You might want to increase the number of iterations, check the scale of the features or consider increasing regularisation. Duality gap: 7.179e+11, tolerance: 3.199e+09\n",
      "  model = cd_fast.enet_coordinate_descent(\n",
      "/Users/yamachang/anaconda3/lib/python3.10/site-packages/sklearn/linear_model/_coordinate_descent.py:631: ConvergenceWarning: Objective did not converge. You might want to increase the number of iterations, check the scale of the features or consider increasing regularisation. Duality gap: 1.628e+12, tolerance: 3.188e+09\n",
      "  model = cd_fast.enet_coordinate_descent(\n",
      "/Users/yamachang/anaconda3/lib/python3.10/site-packages/sklearn/linear_model/_coordinate_descent.py:631: ConvergenceWarning: Objective did not converge. You might want to increase the number of iterations, check the scale of the features or consider increasing regularisation. Duality gap: 1.602e+12, tolerance: 3.192e+09\n",
      "  model = cd_fast.enet_coordinate_descent(\n",
      "/Users/yamachang/anaconda3/lib/python3.10/site-packages/sklearn/linear_model/_coordinate_descent.py:631: ConvergenceWarning: Objective did not converge. You might want to increase the number of iterations, check the scale of the features or consider increasing regularisation. Duality gap: 8.975e+11, tolerance: 3.178e+09\n",
      "  model = cd_fast.enet_coordinate_descent(\n",
      "/Users/yamachang/anaconda3/lib/python3.10/site-packages/sklearn/linear_model/_coordinate_descent.py:631: ConvergenceWarning: Objective did not converge. You might want to increase the number of iterations, check the scale of the features or consider increasing regularisation. Duality gap: 1.600e+12, tolerance: 3.151e+09\n",
      "  model = cd_fast.enet_coordinate_descent(\n",
      "/Users/yamachang/anaconda3/lib/python3.10/site-packages/sklearn/linear_model/_coordinate_descent.py:631: ConvergenceWarning: Objective did not converge. You might want to increase the number of iterations, check the scale of the features or consider increasing regularisation. Duality gap: 5.541e+11, tolerance: 3.117e+09\n",
      "  model = cd_fast.enet_coordinate_descent(\n",
      "/Users/yamachang/anaconda3/lib/python3.10/site-packages/sklearn/linear_model/_coordinate_descent.py:631: ConvergenceWarning: Objective did not converge. You might want to increase the number of iterations, check the scale of the features or consider increasing regularisation. Duality gap: 3.138e+11, tolerance: 3.171e+09\n",
      "  model = cd_fast.enet_coordinate_descent(\n",
      "/Users/yamachang/anaconda3/lib/python3.10/site-packages/sklearn/linear_model/_coordinate_descent.py:631: ConvergenceWarning: Objective did not converge. You might want to increase the number of iterations, check the scale of the features or consider increasing regularisation. Duality gap: 6.328e+11, tolerance: 3.141e+09\n",
      "  model = cd_fast.enet_coordinate_descent(\n",
      "/Users/yamachang/anaconda3/lib/python3.10/site-packages/sklearn/linear_model/_coordinate_descent.py:631: ConvergenceWarning: Objective did not converge. You might want to increase the number of iterations, check the scale of the features or consider increasing regularisation. Duality gap: 2.496e+11, tolerance: 3.195e+09\n",
      "  model = cd_fast.enet_coordinate_descent(\n",
      "/Users/yamachang/anaconda3/lib/python3.10/site-packages/sklearn/linear_model/_coordinate_descent.py:631: ConvergenceWarning: Objective did not converge. You might want to increase the number of iterations, check the scale of the features or consider increasing regularisation. Duality gap: 1.626e+12, tolerance: 3.188e+09\n",
      "  model = cd_fast.enet_coordinate_descent(\n",
      "/Users/yamachang/anaconda3/lib/python3.10/site-packages/sklearn/linear_model/_coordinate_descent.py:631: ConvergenceWarning: Objective did not converge. You might want to increase the number of iterations, check the scale of the features or consider increasing regularisation. Duality gap: 3.411e+11, tolerance: 3.199e+09\n",
      "  model = cd_fast.enet_coordinate_descent(\n",
      "/Users/yamachang/anaconda3/lib/python3.10/site-packages/sklearn/linear_model/_coordinate_descent.py:631: ConvergenceWarning: Objective did not converge. You might want to increase the number of iterations, check the scale of the features or consider increasing regularisation. Duality gap: 1.705e+10, tolerance: 3.184e+09\n",
      "  model = cd_fast.enet_coordinate_descent(\n",
      "/Users/yamachang/anaconda3/lib/python3.10/site-packages/sklearn/linear_model/_coordinate_descent.py:631: ConvergenceWarning: Objective did not converge. You might want to increase the number of iterations, check the scale of the features or consider increasing regularisation. Duality gap: 1.077e+11, tolerance: 3.178e+09\n",
      "  model = cd_fast.enet_coordinate_descent(\n",
      "/Users/yamachang/anaconda3/lib/python3.10/site-packages/sklearn/linear_model/_coordinate_descent.py:631: ConvergenceWarning: Objective did not converge. You might want to increase the number of iterations, check the scale of the features or consider increasing regularisation. Duality gap: 1.601e+12, tolerance: 3.192e+09\n",
      "  model = cd_fast.enet_coordinate_descent(\n",
      "/Users/yamachang/anaconda3/lib/python3.10/site-packages/sklearn/linear_model/_coordinate_descent.py:631: ConvergenceWarning: Objective did not converge. You might want to increase the number of iterations, check the scale of the features or consider increasing regularisation. Duality gap: 1.600e+12, tolerance: 3.151e+09\n",
      "  model = cd_fast.enet_coordinate_descent(\n",
      "/Users/yamachang/anaconda3/lib/python3.10/site-packages/sklearn/linear_model/_coordinate_descent.py:631: ConvergenceWarning: Objective did not converge. You might want to increase the number of iterations, check the scale of the features or consider increasing regularisation. Duality gap: 3.409e+11, tolerance: 3.141e+09\n",
      "  model = cd_fast.enet_coordinate_descent(\n",
      "/Users/yamachang/anaconda3/lib/python3.10/site-packages/sklearn/linear_model/_coordinate_descent.py:631: ConvergenceWarning: Objective did not converge. You might want to increase the number of iterations, check the scale of the features or consider increasing regularisation. Duality gap: 3.899e+11, tolerance: 3.117e+09\n",
      "  model = cd_fast.enet_coordinate_descent(\n",
      "/Users/yamachang/anaconda3/lib/python3.10/site-packages/sklearn/linear_model/_coordinate_descent.py:631: ConvergenceWarning: Objective did not converge. You might want to increase the number of iterations, check the scale of the features or consider increasing regularisation. Duality gap: 4.362e+09, tolerance: 3.184e+09\n",
      "  model = cd_fast.enet_coordinate_descent(\n",
      "/Users/yamachang/anaconda3/lib/python3.10/site-packages/sklearn/linear_model/_coordinate_descent.py:631: ConvergenceWarning: Objective did not converge. You might want to increase the number of iterations, check the scale of the features or consider increasing regularisation. Duality gap: 1.626e+12, tolerance: 3.188e+09\n",
      "  model = cd_fast.enet_coordinate_descent(\n",
      "/Users/yamachang/anaconda3/lib/python3.10/site-packages/sklearn/linear_model/_coordinate_descent.py:631: ConvergenceWarning: Objective did not converge. You might want to increase the number of iterations, check the scale of the features or consider increasing regularisation. Duality gap: 1.600e+12, tolerance: 3.151e+09\n",
      "  model = cd_fast.enet_coordinate_descent(\n",
      "/Users/yamachang/anaconda3/lib/python3.10/site-packages/sklearn/linear_model/_coordinate_descent.py:631: ConvergenceWarning: Objective did not converge. You might want to increase the number of iterations, check the scale of the features or consider increasing regularisation. Duality gap: 3.137e+11, tolerance: 3.171e+09\n",
      "  model = cd_fast.enet_coordinate_descent(\n",
      "/Users/yamachang/anaconda3/lib/python3.10/site-packages/sklearn/linear_model/_coordinate_descent.py:631: ConvergenceWarning: Objective did not converge. You might want to increase the number of iterations, check the scale of the features or consider increasing regularisation. Duality gap: 1.147e+11, tolerance: 3.141e+09\n",
      "  model = cd_fast.enet_coordinate_descent(\n",
      "/Users/yamachang/anaconda3/lib/python3.10/site-packages/sklearn/linear_model/_coordinate_descent.py:631: ConvergenceWarning: Objective did not converge. You might want to increase the number of iterations, check the scale of the features or consider increasing regularisation. Duality gap: 3.139e+11, tolerance: 3.171e+09\n",
      "  model = cd_fast.enet_coordinate_descent(\n",
      "/Users/yamachang/anaconda3/lib/python3.10/site-packages/sklearn/linear_model/_coordinate_descent.py:631: ConvergenceWarning: Objective did not converge. You might want to increase the number of iterations, check the scale of the features or consider increasing regularisation. Duality gap: 3.415e+11, tolerance: 3.199e+09\n",
      "  model = cd_fast.enet_coordinate_descent(\n",
      "/Users/yamachang/anaconda3/lib/python3.10/site-packages/sklearn/linear_model/_coordinate_descent.py:631: ConvergenceWarning: Objective did not converge. You might want to increase the number of iterations, check the scale of the features or consider increasing regularisation. Duality gap: 1.601e+12, tolerance: 3.192e+09\n",
      "  model = cd_fast.enet_coordinate_descent(\n",
      "/Users/yamachang/anaconda3/lib/python3.10/site-packages/sklearn/linear_model/_coordinate_descent.py:631: ConvergenceWarning: Objective did not converge. You might want to increase the number of iterations, check the scale of the features or consider increasing regularisation. Duality gap: 2.496e+11, tolerance: 3.195e+09\n",
      "  model = cd_fast.enet_coordinate_descent(\n",
      "/Users/yamachang/anaconda3/lib/python3.10/site-packages/sklearn/linear_model/_coordinate_descent.py:631: ConvergenceWarning: Objective did not converge. You might want to increase the number of iterations, check the scale of the features or consider increasing regularisation. Duality gap: 3.898e+11, tolerance: 3.117e+09\n",
      "  model = cd_fast.enet_coordinate_descent(\n",
      "/Users/yamachang/anaconda3/lib/python3.10/site-packages/sklearn/linear_model/_coordinate_descent.py:631: ConvergenceWarning: Objective did not converge. You might want to increase the number of iterations, check the scale of the features or consider increasing regularisation. Duality gap: 1.758e+11, tolerance: 3.151e+09\n",
      "  model = cd_fast.enet_coordinate_descent(\n",
      "/Users/yamachang/anaconda3/lib/python3.10/site-packages/sklearn/linear_model/_coordinate_descent.py:631: ConvergenceWarning: Objective did not converge. You might want to increase the number of iterations, check the scale of the features or consider increasing regularisation. Duality gap: 1.080e+11, tolerance: 3.178e+09\n",
      "  model = cd_fast.enet_coordinate_descent(\n"
     ]
    },
    {
     "name": "stderr",
     "output_type": "stream",
     "text": [
      "/Users/yamachang/anaconda3/lib/python3.10/site-packages/sklearn/linear_model/_coordinate_descent.py:631: ConvergenceWarning: Objective did not converge. You might want to increase the number of iterations, check the scale of the features or consider increasing regularisation. Duality gap: 1.084e+11, tolerance: 3.178e+09\n",
      "  model = cd_fast.enet_coordinate_descent(\n"
     ]
    },
    {
     "name": "stdout",
     "output_type": "stream",
     "text": [
      "lasso has been fitted.\n",
      "ridge has been fitted.\n"
     ]
    },
    {
     "name": "stderr",
     "output_type": "stream",
     "text": [
      "/Users/yamachang/anaconda3/lib/python3.10/site-packages/sklearn/linear_model/_coordinate_descent.py:631: ConvergenceWarning: Objective did not converge. You might want to increase the number of iterations, check the scale of the features or consider increasing regularisation. Duality gap: 9.577e+12, tolerance: 3.171e+09\n",
      "  model = cd_fast.enet_coordinate_descent(\n",
      "/Users/yamachang/anaconda3/lib/python3.10/site-packages/sklearn/linear_model/_coordinate_descent.py:631: ConvergenceWarning: Objective did not converge. You might want to increase the number of iterations, check the scale of the features or consider increasing regularisation. Duality gap: 9.463e+12, tolerance: 3.184e+09\n",
      "  model = cd_fast.enet_coordinate_descent(\n",
      "/Users/yamachang/anaconda3/lib/python3.10/site-packages/sklearn/linear_model/_coordinate_descent.py:631: ConvergenceWarning: Objective did not converge. You might want to increase the number of iterations, check the scale of the features or consider increasing regularisation. Duality gap: 9.266e+12, tolerance: 3.195e+09\n",
      "  model = cd_fast.enet_coordinate_descent(\n",
      "/Users/yamachang/anaconda3/lib/python3.10/site-packages/sklearn/linear_model/_coordinate_descent.py:631: ConvergenceWarning: Objective did not converge. You might want to increase the number of iterations, check the scale of the features or consider increasing regularisation. Duality gap: 9.483e+12, tolerance: 3.192e+09\n",
      "  model = cd_fast.enet_coordinate_descent(\n",
      "/Users/yamachang/anaconda3/lib/python3.10/site-packages/sklearn/linear_model/_coordinate_descent.py:631: ConvergenceWarning: Objective did not converge. You might want to increase the number of iterations, check the scale of the features or consider increasing regularisation. Duality gap: 9.686e+12, tolerance: 3.199e+09\n",
      "  model = cd_fast.enet_coordinate_descent(\n",
      "/Users/yamachang/anaconda3/lib/python3.10/site-packages/sklearn/linear_model/_coordinate_descent.py:631: ConvergenceWarning: Objective did not converge. You might want to increase the number of iterations, check the scale of the features or consider increasing regularisation. Duality gap: 9.538e+12, tolerance: 3.178e+09\n",
      "  model = cd_fast.enet_coordinate_descent(\n",
      "/Users/yamachang/anaconda3/lib/python3.10/site-packages/sklearn/linear_model/_coordinate_descent.py:631: ConvergenceWarning: Objective did not converge. You might want to increase the number of iterations, check the scale of the features or consider increasing regularisation. Duality gap: 9.379e+12, tolerance: 3.151e+09\n",
      "  model = cd_fast.enet_coordinate_descent(\n",
      "/Users/yamachang/anaconda3/lib/python3.10/site-packages/sklearn/linear_model/_coordinate_descent.py:631: ConvergenceWarning: Objective did not converge. You might want to increase the number of iterations, check the scale of the features or consider increasing regularisation. Duality gap: 9.702e+12, tolerance: 3.188e+09\n",
      "  model = cd_fast.enet_coordinate_descent(\n",
      "/Users/yamachang/anaconda3/lib/python3.10/site-packages/sklearn/linear_model/_coordinate_descent.py:631: ConvergenceWarning: Objective did not converge. You might want to increase the number of iterations, check the scale of the features or consider increasing regularisation. Duality gap: 9.463e+12, tolerance: 3.141e+09\n",
      "  model = cd_fast.enet_coordinate_descent(\n",
      "/Users/yamachang/anaconda3/lib/python3.10/site-packages/sklearn/linear_model/_coordinate_descent.py:631: ConvergenceWarning: Objective did not converge. You might want to increase the number of iterations, check the scale of the features or consider increasing regularisation. Duality gap: 9.569e+12, tolerance: 3.117e+09\n",
      "  model = cd_fast.enet_coordinate_descent(\n",
      "/Users/yamachang/anaconda3/lib/python3.10/site-packages/sklearn/linear_model/_coordinate_descent.py:631: ConvergenceWarning: Objective did not converge. You might want to increase the number of iterations, check the scale of the features or consider increasing regularisation. Duality gap: 9.575e+12, tolerance: 3.171e+09\n",
      "  model = cd_fast.enet_coordinate_descent(\n",
      "/Users/yamachang/anaconda3/lib/python3.10/site-packages/sklearn/linear_model/_coordinate_descent.py:631: ConvergenceWarning: Objective did not converge. You might want to increase the number of iterations, check the scale of the features or consider increasing regularisation. Duality gap: 9.460e+12, tolerance: 3.184e+09\n",
      "  model = cd_fast.enet_coordinate_descent(\n",
      "/Users/yamachang/anaconda3/lib/python3.10/site-packages/sklearn/linear_model/_coordinate_descent.py:631: ConvergenceWarning: Objective did not converge. You might want to increase the number of iterations, check the scale of the features or consider increasing regularisation. Duality gap: 9.260e+12, tolerance: 3.195e+09\n",
      "  model = cd_fast.enet_coordinate_descent(\n",
      "/Users/yamachang/anaconda3/lib/python3.10/site-packages/sklearn/linear_model/_coordinate_descent.py:631: ConvergenceWarning: Objective did not converge. You might want to increase the number of iterations, check the scale of the features or consider increasing regularisation. Duality gap: 9.478e+12, tolerance: 3.192e+09\n",
      "  model = cd_fast.enet_coordinate_descent(\n",
      "/Users/yamachang/anaconda3/lib/python3.10/site-packages/sklearn/linear_model/_coordinate_descent.py:631: ConvergenceWarning: Objective did not converge. You might want to increase the number of iterations, check the scale of the features or consider increasing regularisation. Duality gap: 9.374e+12, tolerance: 3.151e+09\n",
      "  model = cd_fast.enet_coordinate_descent(\n",
      "/Users/yamachang/anaconda3/lib/python3.10/site-packages/sklearn/linear_model/_coordinate_descent.py:631: ConvergenceWarning: Objective did not converge. You might want to increase the number of iterations, check the scale of the features or consider increasing regularisation. Duality gap: 9.683e+12, tolerance: 3.199e+09\n",
      "  model = cd_fast.enet_coordinate_descent(\n",
      "/Users/yamachang/anaconda3/lib/python3.10/site-packages/sklearn/linear_model/_coordinate_descent.py:631: ConvergenceWarning: Objective did not converge. You might want to increase the number of iterations, check the scale of the features or consider increasing regularisation. Duality gap: 9.699e+12, tolerance: 3.188e+09\n",
      "  model = cd_fast.enet_coordinate_descent(\n",
      "/Users/yamachang/anaconda3/lib/python3.10/site-packages/sklearn/linear_model/_coordinate_descent.py:631: ConvergenceWarning: Objective did not converge. You might want to increase the number of iterations, check the scale of the features or consider increasing regularisation. Duality gap: 9.534e+12, tolerance: 3.178e+09\n",
      "  model = cd_fast.enet_coordinate_descent(\n",
      "/Users/yamachang/anaconda3/lib/python3.10/site-packages/sklearn/linear_model/_coordinate_descent.py:631: ConvergenceWarning: Objective did not converge. You might want to increase the number of iterations, check the scale of the features or consider increasing regularisation. Duality gap: 9.461e+12, tolerance: 3.141e+09\n",
      "  model = cd_fast.enet_coordinate_descent(\n",
      "/Users/yamachang/anaconda3/lib/python3.10/site-packages/sklearn/linear_model/_coordinate_descent.py:631: ConvergenceWarning: Objective did not converge. You might want to increase the number of iterations, check the scale of the features or consider increasing regularisation. Duality gap: 9.566e+12, tolerance: 3.117e+09\n",
      "  model = cd_fast.enet_coordinate_descent(\n",
      "/Users/yamachang/anaconda3/lib/python3.10/site-packages/sklearn/linear_model/_coordinate_descent.py:631: ConvergenceWarning: Objective did not converge. You might want to increase the number of iterations, check the scale of the features or consider increasing regularisation. Duality gap: 9.572e+12, tolerance: 3.171e+09\n",
      "  model = cd_fast.enet_coordinate_descent(\n",
      "/Users/yamachang/anaconda3/lib/python3.10/site-packages/sklearn/linear_model/_coordinate_descent.py:631: ConvergenceWarning: Objective did not converge. You might want to increase the number of iterations, check the scale of the features or consider increasing regularisation. Duality gap: 9.457e+12, tolerance: 3.184e+09\n",
      "  model = cd_fast.enet_coordinate_descent(\n",
      "/Users/yamachang/anaconda3/lib/python3.10/site-packages/sklearn/linear_model/_coordinate_descent.py:631: ConvergenceWarning: Objective did not converge. You might want to increase the number of iterations, check the scale of the features or consider increasing regularisation. Duality gap: 9.370e+12, tolerance: 3.151e+09\n",
      "  model = cd_fast.enet_coordinate_descent(\n",
      "/Users/yamachang/anaconda3/lib/python3.10/site-packages/sklearn/linear_model/_coordinate_descent.py:631: ConvergenceWarning: Objective did not converge. You might want to increase the number of iterations, check the scale of the features or consider increasing regularisation. Duality gap: 9.459e+12, tolerance: 3.141e+09\n",
      "  model = cd_fast.enet_coordinate_descent(\n",
      "/Users/yamachang/anaconda3/lib/python3.10/site-packages/sklearn/linear_model/_coordinate_descent.py:631: ConvergenceWarning: Objective did not converge. You might want to increase the number of iterations, check the scale of the features or consider increasing regularisation. Duality gap: 9.691e+12, tolerance: 3.188e+09\n",
      "  model = cd_fast.enet_coordinate_descent(\n",
      "/Users/yamachang/anaconda3/lib/python3.10/site-packages/sklearn/linear_model/_coordinate_descent.py:631: ConvergenceWarning: Objective did not converge. You might want to increase the number of iterations, check the scale of the features or consider increasing regularisation. Duality gap: 9.569e+12, tolerance: 3.171e+09\n",
      "  model = cd_fast.enet_coordinate_descent(\n",
      "/Users/yamachang/anaconda3/lib/python3.10/site-packages/sklearn/linear_model/_coordinate_descent.py:631: ConvergenceWarning: Objective did not converge. You might want to increase the number of iterations, check the scale of the features or consider increasing regularisation. Duality gap: 9.696e+12, tolerance: 3.188e+09\n",
      "  model = cd_fast.enet_coordinate_descent(\n",
      "/Users/yamachang/anaconda3/lib/python3.10/site-packages/sklearn/linear_model/_coordinate_descent.py:631: ConvergenceWarning: Objective did not converge. You might want to increase the number of iterations, check the scale of the features or consider increasing regularisation. Duality gap: 9.453e+12, tolerance: 3.184e+09\n",
      "  model = cd_fast.enet_coordinate_descent(\n",
      "/Users/yamachang/anaconda3/lib/python3.10/site-packages/sklearn/linear_model/_coordinate_descent.py:631: ConvergenceWarning: Objective did not converge. You might want to increase the number of iterations, check the scale of the features or consider increasing regularisation. Duality gap: 9.455e+12, tolerance: 3.141e+09\n",
      "  model = cd_fast.enet_coordinate_descent(\n",
      "/Users/yamachang/anaconda3/lib/python3.10/site-packages/sklearn/linear_model/_coordinate_descent.py:631: ConvergenceWarning: Objective did not converge. You might want to increase the number of iterations, check the scale of the features or consider increasing regularisation. Duality gap: 9.363e+12, tolerance: 3.151e+09\n",
      "  model = cd_fast.enet_coordinate_descent(\n",
      "/Users/yamachang/anaconda3/lib/python3.10/site-packages/sklearn/linear_model/_coordinate_descent.py:631: ConvergenceWarning: Objective did not converge. You might want to increase the number of iterations, check the scale of the features or consider increasing regularisation. Duality gap: 9.253e+12, tolerance: 3.195e+09\n",
      "  model = cd_fast.enet_coordinate_descent(\n",
      "/Users/yamachang/anaconda3/lib/python3.10/site-packages/sklearn/linear_model/_coordinate_descent.py:631: ConvergenceWarning: Objective did not converge. You might want to increase the number of iterations, check the scale of the features or consider increasing regularisation. Duality gap: 9.680e+12, tolerance: 3.199e+09\n",
      "  model = cd_fast.enet_coordinate_descent(\n",
      "/Users/yamachang/anaconda3/lib/python3.10/site-packages/sklearn/linear_model/_coordinate_descent.py:631: ConvergenceWarning: Objective did not converge. You might want to increase the number of iterations, check the scale of the features or consider increasing regularisation. Duality gap: 9.467e+12, tolerance: 3.192e+09\n",
      "  model = cd_fast.enet_coordinate_descent(\n",
      "/Users/yamachang/anaconda3/lib/python3.10/site-packages/sklearn/linear_model/_coordinate_descent.py:631: ConvergenceWarning: Objective did not converge. You might want to increase the number of iterations, check the scale of the features or consider increasing regularisation. Duality gap: 9.474e+12, tolerance: 3.192e+09\n",
      "  model = cd_fast.enet_coordinate_descent(\n",
      "/Users/yamachang/anaconda3/lib/python3.10/site-packages/sklearn/linear_model/_coordinate_descent.py:631: ConvergenceWarning: Objective did not converge. You might want to increase the number of iterations, check the scale of the features or consider increasing regularisation. Duality gap: 9.563e+12, tolerance: 3.117e+09\n",
      "  model = cd_fast.enet_coordinate_descent(\n",
      "/Users/yamachang/anaconda3/lib/python3.10/site-packages/sklearn/linear_model/_coordinate_descent.py:631: ConvergenceWarning: Objective did not converge. You might want to increase the number of iterations, check the scale of the features or consider increasing regularisation. Duality gap: 9.676e+12, tolerance: 3.199e+09\n",
      "  model = cd_fast.enet_coordinate_descent(\n",
      "/Users/yamachang/anaconda3/lib/python3.10/site-packages/sklearn/linear_model/_coordinate_descent.py:631: ConvergenceWarning: Objective did not converge. You might want to increase the number of iterations, check the scale of the features or consider increasing regularisation. Duality gap: 9.532e+12, tolerance: 3.178e+09\n",
      "  model = cd_fast.enet_coordinate_descent(\n",
      "/Users/yamachang/anaconda3/lib/python3.10/site-packages/sklearn/linear_model/_coordinate_descent.py:631: ConvergenceWarning: Objective did not converge. You might want to increase the number of iterations, check the scale of the features or consider increasing regularisation. Duality gap: 9.245e+12, tolerance: 3.195e+09\n",
      "  model = cd_fast.enet_coordinate_descent(\n",
      "/Users/yamachang/anaconda3/lib/python3.10/site-packages/sklearn/linear_model/_coordinate_descent.py:631: ConvergenceWarning: Objective did not converge. You might want to increase the number of iterations, check the scale of the features or consider increasing regularisation. Duality gap: 9.560e+12, tolerance: 3.117e+09\n",
      "  model = cd_fast.enet_coordinate_descent(\n",
      "/Users/yamachang/anaconda3/lib/python3.10/site-packages/sklearn/linear_model/_coordinate_descent.py:631: ConvergenceWarning: Objective did not converge. You might want to increase the number of iterations, check the scale of the features or consider increasing regularisation. Duality gap: 9.527e+12, tolerance: 3.178e+09\n",
      "  model = cd_fast.enet_coordinate_descent(\n",
      "/Users/yamachang/anaconda3/lib/python3.10/site-packages/sklearn/linear_model/_coordinate_descent.py:631: ConvergenceWarning: Objective did not converge. You might want to increase the number of iterations, check the scale of the features or consider increasing regularisation. Duality gap: 9.557e+12, tolerance: 3.171e+09\n",
      "  model = cd_fast.enet_coordinate_descent(\n",
      "/Users/yamachang/anaconda3/lib/python3.10/site-packages/sklearn/linear_model/_coordinate_descent.py:631: ConvergenceWarning: Objective did not converge. You might want to increase the number of iterations, check the scale of the features or consider increasing regularisation. Duality gap: 9.675e+12, tolerance: 3.188e+09\n",
      "  model = cd_fast.enet_coordinate_descent(\n"
     ]
    },
    {
     "name": "stderr",
     "output_type": "stream",
     "text": [
      "/Users/yamachang/anaconda3/lib/python3.10/site-packages/sklearn/linear_model/_coordinate_descent.py:631: ConvergenceWarning: Objective did not converge. You might want to increase the number of iterations, check the scale of the features or consider increasing regularisation. Duality gap: 9.335e+12, tolerance: 3.151e+09\n",
      "  model = cd_fast.enet_coordinate_descent(\n",
      "/Users/yamachang/anaconda3/lib/python3.10/site-packages/sklearn/linear_model/_coordinate_descent.py:631: ConvergenceWarning: Objective did not converge. You might want to increase the number of iterations, check the scale of the features or consider increasing regularisation. Duality gap: 9.438e+12, tolerance: 3.184e+09\n",
      "  model = cd_fast.enet_coordinate_descent(\n",
      "/Users/yamachang/anaconda3/lib/python3.10/site-packages/sklearn/linear_model/_coordinate_descent.py:631: ConvergenceWarning: Objective did not converge. You might want to increase the number of iterations, check the scale of the features or consider increasing regularisation. Duality gap: 8.128e+12, tolerance: 3.171e+09\n",
      "  model = cd_fast.enet_coordinate_descent(\n",
      "/Users/yamachang/anaconda3/lib/python3.10/site-packages/sklearn/linear_model/_coordinate_descent.py:631: ConvergenceWarning: Objective did not converge. You might want to increase the number of iterations, check the scale of the features or consider increasing regularisation. Duality gap: 9.443e+12, tolerance: 3.141e+09\n",
      "  model = cd_fast.enet_coordinate_descent(\n",
      "/Users/yamachang/anaconda3/lib/python3.10/site-packages/sklearn/linear_model/_coordinate_descent.py:631: ConvergenceWarning: Objective did not converge. You might want to increase the number of iterations, check the scale of the features or consider increasing regularisation. Duality gap: 7.702e+12, tolerance: 3.184e+09\n",
      "  model = cd_fast.enet_coordinate_descent(\n",
      "/Users/yamachang/anaconda3/lib/python3.10/site-packages/sklearn/linear_model/_coordinate_descent.py:631: ConvergenceWarning: Objective did not converge. You might want to increase the number of iterations, check the scale of the features or consider increasing regularisation. Duality gap: 7.670e+12, tolerance: 3.188e+09\n",
      "  model = cd_fast.enet_coordinate_descent(\n",
      "/Users/yamachang/anaconda3/lib/python3.10/site-packages/sklearn/linear_model/_coordinate_descent.py:631: ConvergenceWarning: Objective did not converge. You might want to increase the number of iterations, check the scale of the features or consider increasing regularisation. Duality gap: 8.043e+12, tolerance: 3.141e+09\n",
      "  model = cd_fast.enet_coordinate_descent(\n",
      "/Users/yamachang/anaconda3/lib/python3.10/site-packages/sklearn/linear_model/_coordinate_descent.py:631: ConvergenceWarning: Objective did not converge. You might want to increase the number of iterations, check the scale of the features or consider increasing regularisation. Duality gap: 9.212e+12, tolerance: 3.195e+09\n",
      "  model = cd_fast.enet_coordinate_descent(\n",
      "/Users/yamachang/anaconda3/lib/python3.10/site-packages/sklearn/linear_model/_coordinate_descent.py:631: ConvergenceWarning: Objective did not converge. You might want to increase the number of iterations, check the scale of the features or consider increasing regularisation. Duality gap: 6.137e+12, tolerance: 3.151e+09\n",
      "  model = cd_fast.enet_coordinate_descent(\n",
      "/Users/yamachang/anaconda3/lib/python3.10/site-packages/sklearn/linear_model/_coordinate_descent.py:631: ConvergenceWarning: Objective did not converge. You might want to increase the number of iterations, check the scale of the features or consider increasing regularisation. Duality gap: 5.858e+12, tolerance: 3.195e+09\n",
      "  model = cd_fast.enet_coordinate_descent(\n",
      "/Users/yamachang/anaconda3/lib/python3.10/site-packages/sklearn/linear_model/_coordinate_descent.py:631: ConvergenceWarning: Objective did not converge. You might want to increase the number of iterations, check the scale of the features or consider increasing regularisation. Duality gap: 9.440e+12, tolerance: 3.192e+09\n",
      "  model = cd_fast.enet_coordinate_descent(\n",
      "/Users/yamachang/anaconda3/lib/python3.10/site-packages/sklearn/linear_model/_coordinate_descent.py:631: ConvergenceWarning: Objective did not converge. You might want to increase the number of iterations, check the scale of the features or consider increasing regularisation. Duality gap: 9.661e+12, tolerance: 3.199e+09\n",
      "  model = cd_fast.enet_coordinate_descent(\n",
      "/Users/yamachang/anaconda3/lib/python3.10/site-packages/sklearn/linear_model/_coordinate_descent.py:631: ConvergenceWarning: Objective did not converge. You might want to increase the number of iterations, check the scale of the features or consider increasing regularisation. Duality gap: 9.545e+12, tolerance: 3.117e+09\n",
      "  model = cd_fast.enet_coordinate_descent(\n",
      "/Users/yamachang/anaconda3/lib/python3.10/site-packages/sklearn/linear_model/_coordinate_descent.py:631: ConvergenceWarning: Objective did not converge. You might want to increase the number of iterations, check the scale of the features or consider increasing regularisation. Duality gap: 9.511e+12, tolerance: 3.178e+09\n",
      "  model = cd_fast.enet_coordinate_descent(\n",
      "/Users/yamachang/anaconda3/lib/python3.10/site-packages/sklearn/linear_model/_coordinate_descent.py:631: ConvergenceWarning: Objective did not converge. You might want to increase the number of iterations, check the scale of the features or consider increasing regularisation. Duality gap: 6.303e+12, tolerance: 3.192e+09\n",
      "  model = cd_fast.enet_coordinate_descent(\n",
      "/Users/yamachang/anaconda3/lib/python3.10/site-packages/sklearn/linear_model/_coordinate_descent.py:631: ConvergenceWarning: Objective did not converge. You might want to increase the number of iterations, check the scale of the features or consider increasing regularisation. Duality gap: 7.860e+12, tolerance: 3.199e+09\n",
      "  model = cd_fast.enet_coordinate_descent(\n",
      "/Users/yamachang/anaconda3/lib/python3.10/site-packages/sklearn/linear_model/_coordinate_descent.py:631: ConvergenceWarning: Objective did not converge. You might want to increase the number of iterations, check the scale of the features or consider increasing regularisation. Duality gap: 7.798e+12, tolerance: 3.117e+09\n",
      "  model = cd_fast.enet_coordinate_descent(\n",
      "/Users/yamachang/anaconda3/lib/python3.10/site-packages/sklearn/linear_model/_coordinate_descent.py:631: ConvergenceWarning: Objective did not converge. You might want to increase the number of iterations, check the scale of the features or consider increasing regularisation. Duality gap: 7.638e+12, tolerance: 3.178e+09\n",
      "  model = cd_fast.enet_coordinate_descent(\n",
      "/Users/yamachang/anaconda3/lib/python3.10/site-packages/sklearn/linear_model/_coordinate_descent.py:631: ConvergenceWarning: Objective did not converge. You might want to increase the number of iterations, check the scale of the features or consider increasing regularisation. Duality gap: 8.825e+12, tolerance: 3.171e+09\n",
      "  model = cd_fast.enet_coordinate_descent(\n",
      "/Users/yamachang/anaconda3/lib/python3.10/site-packages/sklearn/linear_model/_coordinate_descent.py:631: ConvergenceWarning: Objective did not converge. You might want to increase the number of iterations, check the scale of the features or consider increasing regularisation. Duality gap: 8.647e+12, tolerance: 3.188e+09\n",
      "  model = cd_fast.enet_coordinate_descent(\n",
      "/Users/yamachang/anaconda3/lib/python3.10/site-packages/sklearn/linear_model/_coordinate_descent.py:631: ConvergenceWarning: Objective did not converge. You might want to increase the number of iterations, check the scale of the features or consider increasing regularisation. Duality gap: 8.728e+12, tolerance: 3.141e+09\n",
      "  model = cd_fast.enet_coordinate_descent(\n",
      "/Users/yamachang/anaconda3/lib/python3.10/site-packages/sklearn/linear_model/_coordinate_descent.py:631: ConvergenceWarning: Objective did not converge. You might want to increase the number of iterations, check the scale of the features or consider increasing regularisation. Duality gap: 9.177e+12, tolerance: 3.184e+09\n",
      "  model = cd_fast.enet_coordinate_descent(\n",
      "/Users/yamachang/anaconda3/lib/python3.10/site-packages/sklearn/linear_model/_coordinate_descent.py:631: ConvergenceWarning: Objective did not converge. You might want to increase the number of iterations, check the scale of the features or consider increasing regularisation. Duality gap: 9.503e+12, tolerance: 3.171e+09\n",
      "  model = cd_fast.enet_coordinate_descent(\n",
      "/Users/yamachang/anaconda3/lib/python3.10/site-packages/sklearn/linear_model/_coordinate_descent.py:631: ConvergenceWarning: Objective did not converge. You might want to increase the number of iterations, check the scale of the features or consider increasing regularisation. Duality gap: 8.845e+12, tolerance: 3.151e+09\n",
      "  model = cd_fast.enet_coordinate_descent(\n",
      "/Users/yamachang/anaconda3/lib/python3.10/site-packages/sklearn/linear_model/_coordinate_descent.py:631: ConvergenceWarning: Objective did not converge. You might want to increase the number of iterations, check the scale of the features or consider increasing regularisation. Duality gap: 9.597e+12, tolerance: 3.188e+09\n",
      "  model = cd_fast.enet_coordinate_descent(\n",
      "/Users/yamachang/anaconda3/lib/python3.10/site-packages/sklearn/linear_model/_coordinate_descent.py:631: ConvergenceWarning: Objective did not converge. You might want to increase the number of iterations, check the scale of the features or consider increasing regularisation. Duality gap: 9.391e+12, tolerance: 3.141e+09\n",
      "  model = cd_fast.enet_coordinate_descent(\n",
      "/Users/yamachang/anaconda3/lib/python3.10/site-packages/sklearn/linear_model/_coordinate_descent.py:631: ConvergenceWarning: Objective did not converge. You might want to increase the number of iterations, check the scale of the features or consider increasing regularisation. Duality gap: 9.412e+12, tolerance: 3.184e+09\n",
      "  model = cd_fast.enet_coordinate_descent(\n",
      "/Users/yamachang/anaconda3/lib/python3.10/site-packages/sklearn/linear_model/_coordinate_descent.py:631: ConvergenceWarning: Objective did not converge. You might want to increase the number of iterations, check the scale of the features or consider increasing regularisation. Duality gap: 9.388e+12, tolerance: 3.199e+09\n",
      "  model = cd_fast.enet_coordinate_descent(\n",
      "/Users/yamachang/anaconda3/lib/python3.10/site-packages/sklearn/linear_model/_coordinate_descent.py:631: ConvergenceWarning: Objective did not converge. You might want to increase the number of iterations, check the scale of the features or consider increasing regularisation. Duality gap: 8.649e+12, tolerance: 3.117e+09\n",
      "  model = cd_fast.enet_coordinate_descent(\n",
      "/Users/yamachang/anaconda3/lib/python3.10/site-packages/sklearn/linear_model/_coordinate_descent.py:631: ConvergenceWarning: Objective did not converge. You might want to increase the number of iterations, check the scale of the features or consider increasing regularisation. Duality gap: 9.285e+12, tolerance: 3.151e+09\n",
      "  model = cd_fast.enet_coordinate_descent(\n",
      "/Users/yamachang/anaconda3/lib/python3.10/site-packages/sklearn/linear_model/_coordinate_descent.py:631: ConvergenceWarning: Objective did not converge. You might want to increase the number of iterations, check the scale of the features or consider increasing regularisation. Duality gap: 9.228e+12, tolerance: 3.178e+09\n",
      "  model = cd_fast.enet_coordinate_descent(\n",
      "/Users/yamachang/anaconda3/lib/python3.10/site-packages/sklearn/linear_model/_coordinate_descent.py:631: ConvergenceWarning: Objective did not converge. You might want to increase the number of iterations, check the scale of the features or consider increasing regularisation. Duality gap: 7.823e+12, tolerance: 3.192e+09\n",
      "  model = cd_fast.enet_coordinate_descent(\n",
      "/Users/yamachang/anaconda3/lib/python3.10/site-packages/sklearn/linear_model/_coordinate_descent.py:631: ConvergenceWarning: Objective did not converge. You might want to increase the number of iterations, check the scale of the features or consider increasing regularisation. Duality gap: 7.459e+12, tolerance: 3.195e+09\n",
      "  model = cd_fast.enet_coordinate_descent(\n",
      "/Users/yamachang/anaconda3/lib/python3.10/site-packages/sklearn/linear_model/_coordinate_descent.py:631: ConvergenceWarning: Objective did not converge. You might want to increase the number of iterations, check the scale of the features or consider increasing regularisation. Duality gap: 9.077e+12, tolerance: 3.195e+09\n",
      "  model = cd_fast.enet_coordinate_descent(\n",
      "/Users/yamachang/anaconda3/lib/python3.10/site-packages/sklearn/linear_model/_coordinate_descent.py:631: ConvergenceWarning: Objective did not converge. You might want to increase the number of iterations, check the scale of the features or consider increasing regularisation. Duality gap: 9.314e+12, tolerance: 3.192e+09\n",
      "  model = cd_fast.enet_coordinate_descent(\n",
      "/Users/yamachang/anaconda3/lib/python3.10/site-packages/sklearn/linear_model/_coordinate_descent.py:631: ConvergenceWarning: Objective did not converge. You might want to increase the number of iterations, check the scale of the features or consider increasing regularisation. Duality gap: 9.478e+12, tolerance: 3.117e+09\n",
      "  model = cd_fast.enet_coordinate_descent(\n",
      "/Users/yamachang/anaconda3/lib/python3.10/site-packages/sklearn/linear_model/_coordinate_descent.py:631: ConvergenceWarning: Objective did not converge. You might want to increase the number of iterations, check the scale of the features or consider increasing regularisation. Duality gap: 9.342e+12, tolerance: 3.171e+09\n",
      "  model = cd_fast.enet_coordinate_descent(\n",
      "/Users/yamachang/anaconda3/lib/python3.10/site-packages/sklearn/linear_model/_coordinate_descent.py:631: ConvergenceWarning: Objective did not converge. You might want to increase the number of iterations, check the scale of the features or consider increasing regularisation. Duality gap: 9.483e+12, tolerance: 3.178e+09\n",
      "  model = cd_fast.enet_coordinate_descent(\n",
      "/Users/yamachang/anaconda3/lib/python3.10/site-packages/sklearn/linear_model/_coordinate_descent.py:631: ConvergenceWarning: Objective did not converge. You might want to increase the number of iterations, check the scale of the features or consider increasing regularisation. Duality gap: 9.371e+12, tolerance: 3.188e+09\n",
      "  model = cd_fast.enet_coordinate_descent(\n",
      "/Users/yamachang/anaconda3/lib/python3.10/site-packages/sklearn/linear_model/_coordinate_descent.py:631: ConvergenceWarning: Objective did not converge. You might want to increase the number of iterations, check the scale of the features or consider increasing regularisation. Duality gap: 9.634e+12, tolerance: 3.199e+09\n",
      "  model = cd_fast.enet_coordinate_descent(\n",
      "/Users/yamachang/anaconda3/lib/python3.10/site-packages/sklearn/linear_model/_coordinate_descent.py:631: ConvergenceWarning: Objective did not converge. You might want to increase the number of iterations, check the scale of the features or consider increasing regularisation. Duality gap: 9.234e+12, tolerance: 3.141e+09\n",
      "  model = cd_fast.enet_coordinate_descent(\n",
      "/Users/yamachang/anaconda3/lib/python3.10/site-packages/sklearn/linear_model/_coordinate_descent.py:631: ConvergenceWarning: Objective did not converge. You might want to increase the number of iterations, check the scale of the features or consider increasing regularisation. Duality gap: 7.687e+12, tolerance: 3.151e+09\n",
      "  model = cd_fast.enet_coordinate_descent(\n"
     ]
    },
    {
     "name": "stderr",
     "output_type": "stream",
     "text": [
      "/Users/yamachang/anaconda3/lib/python3.10/site-packages/sklearn/linear_model/_coordinate_descent.py:631: ConvergenceWarning: Objective did not converge. You might want to increase the number of iterations, check the scale of the features or consider increasing regularisation. Duality gap: 9.536e+12, tolerance: 3.171e+09\n",
      "  model = cd_fast.enet_coordinate_descent(\n",
      "/Users/yamachang/anaconda3/lib/python3.10/site-packages/sklearn/linear_model/_coordinate_descent.py:631: ConvergenceWarning: Objective did not converge. You might want to increase the number of iterations, check the scale of the features or consider increasing regularisation. Duality gap: 9.372e+12, tolerance: 3.184e+09\n",
      "  model = cd_fast.enet_coordinate_descent(\n",
      "/Users/yamachang/anaconda3/lib/python3.10/site-packages/sklearn/linear_model/_coordinate_descent.py:631: ConvergenceWarning: Objective did not converge. You might want to increase the number of iterations, check the scale of the features or consider increasing regularisation. Duality gap: 8.549e+12, tolerance: 3.184e+09\n",
      "  model = cd_fast.enet_coordinate_descent(\n",
      "/Users/yamachang/anaconda3/lib/python3.10/site-packages/sklearn/linear_model/_coordinate_descent.py:631: ConvergenceWarning: Objective did not converge. You might want to increase the number of iterations, check the scale of the features or consider increasing regularisation. Duality gap: 9.208e+12, tolerance: 3.151e+09\n",
      "  model = cd_fast.enet_coordinate_descent(\n",
      "/Users/yamachang/anaconda3/lib/python3.10/site-packages/sklearn/linear_model/_coordinate_descent.py:631: ConvergenceWarning: Objective did not converge. You might want to increase the number of iterations, check the scale of the features or consider increasing regularisation. Duality gap: 8.687e+12, tolerance: 3.195e+09\n",
      "  model = cd_fast.enet_coordinate_descent(\n",
      "/Users/yamachang/anaconda3/lib/python3.10/site-packages/sklearn/linear_model/_coordinate_descent.py:631: ConvergenceWarning: Objective did not converge. You might want to increase the number of iterations, check the scale of the features or consider increasing regularisation. Duality gap: 8.958e+12, tolerance: 3.192e+09\n",
      "  model = cd_fast.enet_coordinate_descent(\n",
      "/Users/yamachang/anaconda3/lib/python3.10/site-packages/sklearn/linear_model/_coordinate_descent.py:631: ConvergenceWarning: Objective did not converge. You might want to increase the number of iterations, check the scale of the features or consider increasing regularisation. Duality gap: 9.644e+12, tolerance: 3.188e+09\n",
      "  model = cd_fast.enet_coordinate_descent(\n",
      "/Users/yamachang/anaconda3/lib/python3.10/site-packages/sklearn/linear_model/_coordinate_descent.py:631: ConvergenceWarning: Objective did not converge. You might want to increase the number of iterations, check the scale of the features or consider increasing regularisation. Duality gap: 9.423e+12, tolerance: 3.141e+09\n",
      "  model = cd_fast.enet_coordinate_descent(\n",
      "/Users/yamachang/anaconda3/lib/python3.10/site-packages/sklearn/linear_model/_coordinate_descent.py:631: ConvergenceWarning: Objective did not converge. You might want to increase the number of iterations, check the scale of the features or consider increasing regularisation. Duality gap: 9.281e+12, tolerance: 3.117e+09\n",
      "  model = cd_fast.enet_coordinate_descent(\n",
      "/Users/yamachang/anaconda3/lib/python3.10/site-packages/sklearn/linear_model/_coordinate_descent.py:631: ConvergenceWarning: Objective did not converge. You might want to increase the number of iterations, check the scale of the features or consider increasing regularisation. Duality gap: 8.551e+12, tolerance: 3.178e+09\n",
      "  model = cd_fast.enet_coordinate_descent(\n",
      "/Users/yamachang/anaconda3/lib/python3.10/site-packages/sklearn/linear_model/_coordinate_descent.py:631: ConvergenceWarning: Objective did not converge. You might want to increase the number of iterations, check the scale of the features or consider increasing regularisation. Duality gap: 9.592e+12, tolerance: 3.199e+09\n",
      "  model = cd_fast.enet_coordinate_descent(\n",
      "/Users/yamachang/anaconda3/lib/python3.10/site-packages/sklearn/linear_model/_coordinate_descent.py:631: ConvergenceWarning: Objective did not converge. You might want to increase the number of iterations, check the scale of the features or consider increasing regularisation. Duality gap: 9.440e+12, tolerance: 3.178e+09\n",
      "  model = cd_fast.enet_coordinate_descent(\n",
      "/Users/yamachang/anaconda3/lib/python3.10/site-packages/sklearn/linear_model/_coordinate_descent.py:631: ConvergenceWarning: Objective did not converge. You might want to increase the number of iterations, check the scale of the features or consider increasing regularisation. Duality gap: 9.156e+12, tolerance: 3.195e+09\n",
      "  model = cd_fast.enet_coordinate_descent(\n",
      "/Users/yamachang/anaconda3/lib/python3.10/site-packages/sklearn/linear_model/_coordinate_descent.py:631: ConvergenceWarning: Objective did not converge. You might want to increase the number of iterations, check the scale of the features or consider increasing regularisation. Duality gap: 8.736e+12, tolerance: 3.199e+09\n",
      "  model = cd_fast.enet_coordinate_descent(\n",
      "/Users/yamachang/anaconda3/lib/python3.10/site-packages/sklearn/linear_model/_coordinate_descent.py:631: ConvergenceWarning: Objective did not converge. You might want to increase the number of iterations, check the scale of the features or consider increasing regularisation. Duality gap: 9.519e+12, tolerance: 3.117e+09\n",
      "  model = cd_fast.enet_coordinate_descent(\n",
      "/Users/yamachang/anaconda3/lib/python3.10/site-packages/sklearn/linear_model/_coordinate_descent.py:631: ConvergenceWarning: Objective did not converge. You might want to increase the number of iterations, check the scale of the features or consider increasing regularisation. Duality gap: 9.390e+12, tolerance: 3.192e+09\n",
      "  model = cd_fast.enet_coordinate_descent(\n",
      "/Users/yamachang/anaconda3/lib/python3.10/site-packages/sklearn/linear_model/_coordinate_descent.py:631: ConvergenceWarning: Objective did not converge. You might want to increase the number of iterations, check the scale of the features or consider increasing regularisation. Duality gap: 1.788e+10, tolerance: 3.171e+09\n",
      "  model = cd_fast.enet_coordinate_descent(\n",
      "/Users/yamachang/anaconda3/lib/python3.10/site-packages/sklearn/linear_model/_coordinate_descent.py:631: ConvergenceWarning: Objective did not converge. You might want to increase the number of iterations, check the scale of the features or consider increasing regularisation. Duality gap: 7.560e+12, tolerance: 3.184e+09\n",
      "  model = cd_fast.enet_coordinate_descent(\n",
      "/Users/yamachang/anaconda3/lib/python3.10/site-packages/sklearn/linear_model/_coordinate_descent.py:631: ConvergenceWarning: Objective did not converge. You might want to increase the number of iterations, check the scale of the features or consider increasing regularisation. Duality gap: 3.625e+09, tolerance: 3.195e+09\n",
      "  model = cd_fast.enet_coordinate_descent(\n",
      "/Users/yamachang/anaconda3/lib/python3.10/site-packages/sklearn/linear_model/_coordinate_descent.py:631: ConvergenceWarning: Objective did not converge. You might want to increase the number of iterations, check the scale of the features or consider increasing regularisation. Duality gap: 5.026e+09, tolerance: 3.141e+09\n",
      "  model = cd_fast.enet_coordinate_descent(\n",
      "/Users/yamachang/anaconda3/lib/python3.10/site-packages/sklearn/linear_model/_coordinate_descent.py:631: ConvergenceWarning: Objective did not converge. You might want to increase the number of iterations, check the scale of the features or consider increasing regularisation. Duality gap: 5.778e+12, tolerance: 3.151e+09\n",
      "  model = cd_fast.enet_coordinate_descent(\n",
      "/Users/yamachang/anaconda3/lib/python3.10/site-packages/sklearn/linear_model/_coordinate_descent.py:631: ConvergenceWarning: Objective did not converge. You might want to increase the number of iterations, check the scale of the features or consider increasing regularisation. Duality gap: 1.789e+10, tolerance: 3.184e+09\n",
      "  model = cd_fast.enet_coordinate_descent(\n",
      "/Users/yamachang/anaconda3/lib/python3.10/site-packages/sklearn/linear_model/_coordinate_descent.py:631: ConvergenceWarning: Objective did not converge. You might want to increase the number of iterations, check the scale of the features or consider increasing regularisation. Duality gap: 7.706e+12, tolerance: 3.199e+09\n",
      "  model = cd_fast.enet_coordinate_descent(\n",
      "/Users/yamachang/anaconda3/lib/python3.10/site-packages/sklearn/linear_model/_coordinate_descent.py:631: ConvergenceWarning: Objective did not converge. You might want to increase the number of iterations, check the scale of the features or consider increasing regularisation. Duality gap: 1.575e+10, tolerance: 3.117e+09\n",
      "  model = cd_fast.enet_coordinate_descent(\n",
      "/Users/yamachang/anaconda3/lib/python3.10/site-packages/sklearn/linear_model/_coordinate_descent.py:631: ConvergenceWarning: Objective did not converge. You might want to increase the number of iterations, check the scale of the features or consider increasing regularisation. Duality gap: 9.468e+12, tolerance: 3.171e+09\n",
      "  model = cd_fast.enet_coordinate_descent(\n"
     ]
    },
    {
     "name": "stderr",
     "output_type": "stream",
     "text": [
      "/Users/yamachang/anaconda3/lib/python3.10/site-packages/sklearn/linear_model/_coordinate_descent.py:631: ConvergenceWarning: Objective did not converge. You might want to increase the number of iterations, check the scale of the features or consider increasing regularisation. Duality gap: 9.548e+12, tolerance: 3.188e+09\n",
      "  model = cd_fast.enet_coordinate_descent(\n",
      "/Users/yamachang/anaconda3/lib/python3.10/site-packages/sklearn/linear_model/_coordinate_descent.py:631: ConvergenceWarning: Objective did not converge. You might want to increase the number of iterations, check the scale of the features or consider increasing regularisation. Duality gap: 7.477e+12, tolerance: 3.178e+09\n",
      "  model = cd_fast.enet_coordinate_descent(\n",
      "/Users/yamachang/anaconda3/lib/python3.10/site-packages/sklearn/linear_model/_coordinate_descent.py:631: ConvergenceWarning: Objective did not converge. You might want to increase the number of iterations, check the scale of the features or consider increasing regularisation. Duality gap: 7.498e+12, tolerance: 3.188e+09\n",
      "  model = cd_fast.enet_coordinate_descent(\n",
      "/Users/yamachang/anaconda3/lib/python3.10/site-packages/sklearn/linear_model/_coordinate_descent.py:631: ConvergenceWarning: Objective did not converge. You might want to increase the number of iterations, check the scale of the features or consider increasing regularisation. Duality gap: 9.357e+12, tolerance: 3.141e+09\n",
      "  model = cd_fast.enet_coordinate_descent(\n",
      "/Users/yamachang/anaconda3/lib/python3.10/site-packages/sklearn/linear_model/_coordinate_descent.py:631: ConvergenceWarning: Objective did not converge. You might want to increase the number of iterations, check the scale of the features or consider increasing regularisation. Duality gap: 6.002e+09, tolerance: 3.199e+09\n",
      "  model = cd_fast.enet_coordinate_descent(\n",
      "/Users/yamachang/anaconda3/lib/python3.10/site-packages/sklearn/linear_model/_coordinate_descent.py:631: ConvergenceWarning: Objective did not converge. You might want to increase the number of iterations, check the scale of the features or consider increasing regularisation. Duality gap: 8.981e+12, tolerance: 3.195e+09\n",
      "  model = cd_fast.enet_coordinate_descent(\n",
      "/Users/yamachang/anaconda3/lib/python3.10/site-packages/sklearn/linear_model/_coordinate_descent.py:631: ConvergenceWarning: Objective did not converge. You might want to increase the number of iterations, check the scale of the features or consider increasing regularisation. Duality gap: 8.019e+12, tolerance: 3.171e+09\n",
      "  model = cd_fast.enet_coordinate_descent(\n",
      "/Users/yamachang/anaconda3/lib/python3.10/site-packages/sklearn/linear_model/_coordinate_descent.py:631: ConvergenceWarning: Objective did not converge. You might want to increase the number of iterations, check the scale of the features or consider increasing regularisation. Duality gap: 9.234e+12, tolerance: 3.192e+09\n",
      "  model = cd_fast.enet_coordinate_descent(\n",
      "/Users/yamachang/anaconda3/lib/python3.10/site-packages/sklearn/linear_model/_coordinate_descent.py:631: ConvergenceWarning: Objective did not converge. You might want to increase the number of iterations, check the scale of the features or consider increasing regularisation. Duality gap: 7.940e+12, tolerance: 3.141e+09\n",
      "  model = cd_fast.enet_coordinate_descent(\n",
      "/Users/yamachang/anaconda3/lib/python3.10/site-packages/sklearn/linear_model/_coordinate_descent.py:631: ConvergenceWarning: Objective did not converge. You might want to increase the number of iterations, check the scale of the features or consider increasing regularisation. Duality gap: 9.435e+12, tolerance: 3.117e+09\n",
      "  model = cd_fast.enet_coordinate_descent(\n",
      "/Users/yamachang/anaconda3/lib/python3.10/site-packages/sklearn/linear_model/_coordinate_descent.py:631: ConvergenceWarning: Objective did not converge. You might want to increase the number of iterations, check the scale of the features or consider increasing regularisation. Duality gap: 5.952e+12, tolerance: 3.192e+09\n",
      "  model = cd_fast.enet_coordinate_descent(\n",
      "/Users/yamachang/anaconda3/lib/python3.10/site-packages/sklearn/linear_model/_coordinate_descent.py:631: ConvergenceWarning: Objective did not converge. You might want to increase the number of iterations, check the scale of the features or consider increasing regularisation. Duality gap: 5.361e+12, tolerance: 3.195e+09\n",
      "  model = cd_fast.enet_coordinate_descent(\n",
      "/Users/yamachang/anaconda3/lib/python3.10/site-packages/sklearn/linear_model/_coordinate_descent.py:631: ConvergenceWarning: Objective did not converge. You might want to increase the number of iterations, check the scale of the features or consider increasing regularisation. Duality gap: 9.330e+12, tolerance: 3.184e+09\n",
      "  model = cd_fast.enet_coordinate_descent(\n",
      "/Users/yamachang/anaconda3/lib/python3.10/site-packages/sklearn/linear_model/_coordinate_descent.py:631: ConvergenceWarning: Objective did not converge. You might want to increase the number of iterations, check the scale of the features or consider increasing regularisation. Duality gap: 9.126e+12, tolerance: 3.151e+09\n",
      "  model = cd_fast.enet_coordinate_descent(\n",
      "/Users/yamachang/anaconda3/lib/python3.10/site-packages/sklearn/linear_model/_coordinate_descent.py:631: ConvergenceWarning: Objective did not converge. You might want to increase the number of iterations, check the scale of the features or consider increasing regularisation. Duality gap: 7.653e+12, tolerance: 3.117e+09\n",
      "  model = cd_fast.enet_coordinate_descent(\n",
      "/Users/yamachang/anaconda3/lib/python3.10/site-packages/sklearn/linear_model/_coordinate_descent.py:631: ConvergenceWarning: Objective did not converge. You might want to increase the number of iterations, check the scale of the features or consider increasing regularisation. Duality gap: 9.393e+12, tolerance: 3.178e+09\n",
      "  model = cd_fast.enet_coordinate_descent(\n",
      "/Users/yamachang/anaconda3/lib/python3.10/site-packages/sklearn/linear_model/_coordinate_descent.py:631: ConvergenceWarning: Objective did not converge. You might want to increase the number of iterations, check the scale of the features or consider increasing regularisation. Duality gap: 9.547e+12, tolerance: 3.199e+09\n",
      "  model = cd_fast.enet_coordinate_descent(\n"
     ]
    },
    {
     "name": "stdout",
     "output_type": "stream",
     "text": [
      "enet has been fitted.\n"
     ]
    },
    {
     "name": "stderr",
     "output_type": "stream",
     "text": [
      "/Users/yamachang/anaconda3/lib/python3.10/site-packages/sklearn/ensemble/_forest.py:413: FutureWarning: `max_features='auto'` has been deprecated in 1.1 and will be removed in 1.3. To keep the past behaviour, explicitly set `max_features=1.0` or remove this parameter as it is also the default value for RandomForestRegressors and ExtraTreesRegressors.\n",
      "  warn(\n",
      "/Users/yamachang/anaconda3/lib/python3.10/site-packages/sklearn/ensemble/_forest.py:413: FutureWarning: `max_features='auto'` has been deprecated in 1.1 and will be removed in 1.3. To keep the past behaviour, explicitly set `max_features=1.0` or remove this parameter as it is also the default value for RandomForestRegressors and ExtraTreesRegressors.\n",
      "  warn(\n",
      "/Users/yamachang/anaconda3/lib/python3.10/site-packages/sklearn/ensemble/_forest.py:413: FutureWarning: `max_features='auto'` has been deprecated in 1.1 and will be removed in 1.3. To keep the past behaviour, explicitly set `max_features=1.0` or remove this parameter as it is also the default value for RandomForestRegressors and ExtraTreesRegressors.\n",
      "  warn(\n",
      "/Users/yamachang/anaconda3/lib/python3.10/site-packages/sklearn/ensemble/_forest.py:413: FutureWarning: `max_features='auto'` has been deprecated in 1.1 and will be removed in 1.3. To keep the past behaviour, explicitly set `max_features=1.0` or remove this parameter as it is also the default value for RandomForestRegressors and ExtraTreesRegressors.\n",
      "  warn(\n",
      "/Users/yamachang/anaconda3/lib/python3.10/site-packages/sklearn/ensemble/_forest.py:413: FutureWarning: `max_features='auto'` has been deprecated in 1.1 and will be removed in 1.3. To keep the past behaviour, explicitly set `max_features=1.0` or remove this parameter as it is also the default value for RandomForestRegressors and ExtraTreesRegressors.\n",
      "  warn(\n",
      "/Users/yamachang/anaconda3/lib/python3.10/site-packages/sklearn/ensemble/_forest.py:413: FutureWarning: `max_features='auto'` has been deprecated in 1.1 and will be removed in 1.3. To keep the past behaviour, explicitly set `max_features=1.0` or remove this parameter as it is also the default value for RandomForestRegressors and ExtraTreesRegressors.\n",
      "  warn(\n",
      "/Users/yamachang/anaconda3/lib/python3.10/site-packages/sklearn/ensemble/_forest.py:413: FutureWarning: `max_features='auto'` has been deprecated in 1.1 and will be removed in 1.3. To keep the past behaviour, explicitly set `max_features=1.0` or remove this parameter as it is also the default value for RandomForestRegressors and ExtraTreesRegressors.\n",
      "  warn(\n",
      "/Users/yamachang/anaconda3/lib/python3.10/site-packages/sklearn/ensemble/_forest.py:413: FutureWarning: `max_features='auto'` has been deprecated in 1.1 and will be removed in 1.3. To keep the past behaviour, explicitly set `max_features=1.0` or remove this parameter as it is also the default value for RandomForestRegressors and ExtraTreesRegressors.\n",
      "  warn(\n",
      "/Users/yamachang/anaconda3/lib/python3.10/site-packages/sklearn/ensemble/_forest.py:413: FutureWarning: `max_features='auto'` has been deprecated in 1.1 and will be removed in 1.3. To keep the past behaviour, explicitly set `max_features=1.0` or remove this parameter as it is also the default value for RandomForestRegressors and ExtraTreesRegressors.\n",
      "  warn(\n",
      "/Users/yamachang/anaconda3/lib/python3.10/site-packages/sklearn/ensemble/_forest.py:413: FutureWarning: `max_features='auto'` has been deprecated in 1.1 and will be removed in 1.3. To keep the past behaviour, explicitly set `max_features=1.0` or remove this parameter as it is also the default value for RandomForestRegressors and ExtraTreesRegressors.\n",
      "  warn(\n",
      "/Users/yamachang/anaconda3/lib/python3.10/site-packages/sklearn/ensemble/_forest.py:413: FutureWarning: `max_features='auto'` has been deprecated in 1.1 and will be removed in 1.3. To keep the past behaviour, explicitly set `max_features=1.0` or remove this parameter as it is also the default value for RandomForestRegressors and ExtraTreesRegressors.\n",
      "  warn(\n",
      "/Users/yamachang/anaconda3/lib/python3.10/site-packages/sklearn/ensemble/_forest.py:413: FutureWarning: `max_features='auto'` has been deprecated in 1.1 and will be removed in 1.3. To keep the past behaviour, explicitly set `max_features=1.0` or remove this parameter as it is also the default value for RandomForestRegressors and ExtraTreesRegressors.\n",
      "  warn(\n",
      "/Users/yamachang/anaconda3/lib/python3.10/site-packages/sklearn/ensemble/_forest.py:413: FutureWarning: `max_features='auto'` has been deprecated in 1.1 and will be removed in 1.3. To keep the past behaviour, explicitly set `max_features=1.0` or remove this parameter as it is also the default value for RandomForestRegressors and ExtraTreesRegressors.\n",
      "  warn(\n",
      "/Users/yamachang/anaconda3/lib/python3.10/site-packages/sklearn/ensemble/_forest.py:413: FutureWarning: `max_features='auto'` has been deprecated in 1.1 and will be removed in 1.3. To keep the past behaviour, explicitly set `max_features=1.0` or remove this parameter as it is also the default value for RandomForestRegressors and ExtraTreesRegressors.\n",
      "  warn(\n",
      "/Users/yamachang/anaconda3/lib/python3.10/site-packages/sklearn/ensemble/_forest.py:413: FutureWarning: `max_features='auto'` has been deprecated in 1.1 and will be removed in 1.3. To keep the past behaviour, explicitly set `max_features=1.0` or remove this parameter as it is also the default value for RandomForestRegressors and ExtraTreesRegressors.\n",
      "  warn(\n",
      "/Users/yamachang/anaconda3/lib/python3.10/site-packages/sklearn/ensemble/_forest.py:413: FutureWarning: `max_features='auto'` has been deprecated in 1.1 and will be removed in 1.3. To keep the past behaviour, explicitly set `max_features=1.0` or remove this parameter as it is also the default value for RandomForestRegressors and ExtraTreesRegressors.\n",
      "  warn(\n",
      "/Users/yamachang/anaconda3/lib/python3.10/site-packages/sklearn/ensemble/_forest.py:413: FutureWarning: `max_features='auto'` has been deprecated in 1.1 and will be removed in 1.3. To keep the past behaviour, explicitly set `max_features=1.0` or remove this parameter as it is also the default value for RandomForestRegressors and ExtraTreesRegressors.\n",
      "  warn(\n",
      "/Users/yamachang/anaconda3/lib/python3.10/site-packages/sklearn/ensemble/_forest.py:413: FutureWarning: `max_features='auto'` has been deprecated in 1.1 and will be removed in 1.3. To keep the past behaviour, explicitly set `max_features=1.0` or remove this parameter as it is also the default value for RandomForestRegressors and ExtraTreesRegressors.\n",
      "  warn(\n",
      "/Users/yamachang/anaconda3/lib/python3.10/site-packages/sklearn/ensemble/_forest.py:413: FutureWarning: `max_features='auto'` has been deprecated in 1.1 and will be removed in 1.3. To keep the past behaviour, explicitly set `max_features=1.0` or remove this parameter as it is also the default value for RandomForestRegressors and ExtraTreesRegressors.\n",
      "  warn(\n",
      "/Users/yamachang/anaconda3/lib/python3.10/site-packages/sklearn/ensemble/_forest.py:413: FutureWarning: `max_features='auto'` has been deprecated in 1.1 and will be removed in 1.3. To keep the past behaviour, explicitly set `max_features=1.0` or remove this parameter as it is also the default value for RandomForestRegressors and ExtraTreesRegressors.\n",
      "  warn(\n",
      "/Users/yamachang/anaconda3/lib/python3.10/site-packages/sklearn/ensemble/_forest.py:413: FutureWarning: `max_features='auto'` has been deprecated in 1.1 and will be removed in 1.3. To keep the past behaviour, explicitly set `max_features=1.0` or remove this parameter as it is also the default value for RandomForestRegressors and ExtraTreesRegressors.\n",
      "  warn(\n"
     ]
    },
    {
     "name": "stdout",
     "output_type": "stream",
     "text": [
      "rf has been fitted.\n",
      "gb has been fitted.\n"
     ]
    }
   ],
   "source": [
    "# Create empty dictionary called fitted_models\n",
    "fitted_models = {}\n",
    "\n",
    "# Loop through model pipelines, tuning each one and saving it to fitted_models\n",
    "for name, pipeline in pipelines.items():\n",
    "    model = GridSearchCV(pipeline, hyperparameters[name], cv=10, n_jobs=-1)\n",
    "    \n",
    "    # Fit model on x_train, y_train\n",
    "    model.fit(x_train, y_train)\n",
    "    \n",
    "    # Store model in fitted_models[name] \n",
    "    fitted_models[name] = model\n",
    "    \n",
    "    # Print '{name} has been fitted'\n",
    "    print(name, 'has been fitted.')"
   ]
  },
  {
   "cell_type": "code",
   "execution_count": 18,
   "id": "0ea1b3bc",
   "metadata": {},
   "outputs": [
    {
     "name": "stdout",
     "output_type": "stream",
     "text": [
      "lasso <class 'sklearn.model_selection._search.GridSearchCV'>\n",
      "ridge <class 'sklearn.model_selection._search.GridSearchCV'>\n",
      "enet <class 'sklearn.model_selection._search.GridSearchCV'>\n",
      "rf <class 'sklearn.model_selection._search.GridSearchCV'>\n",
      "gb <class 'sklearn.model_selection._search.GridSearchCV'>\n"
     ]
    }
   ],
   "source": [
    "# Check that the models are of the correct type\n",
    "for key, value in fitted_models.items():\n",
    "    print( key, type(value) ) # Okie!"
   ]
  },
  {
   "cell_type": "code",
   "execution_count": 19,
   "id": "3b7e806a",
   "metadata": {},
   "outputs": [
    {
     "name": "stdout",
     "output_type": "stream",
     "text": [
      "lasso has been fitted.\n",
      "ridge has been fitted.\n",
      "enet has been fitted.\n",
      "rf has been fitted.\n",
      "gb has been fitted.\n"
     ]
    }
   ],
   "source": [
    "# Check that the models have been fitted correctly\n",
    "from sklearn.exceptions import NotFittedError\n",
    "\n",
    "for name, model in fitted_models.items():\n",
    "    try:\n",
    "        pred = model.predict(x_test)\n",
    "        print(name, 'has been fitted.')\n",
    "    except NotFittedError as e:\n",
    "        print(repr(e))"
   ]
  },
  {
   "cell_type": "markdown",
   "id": "dbc62a77",
   "metadata": {},
   "source": [
    "## Model Selection"
   ]
  },
  {
   "cell_type": "code",
   "execution_count": 20,
   "id": "fdbbe4a2",
   "metadata": {},
   "outputs": [
    {
     "name": "stdout",
     "output_type": "stream",
     "text": [
      "lasso 0.30862751396391264\n",
      "ridge 0.3166111585985651\n",
      "enet 0.3428746288316883\n",
      "rf 0.4811321119157224\n",
      "gb 0.4876576401149557\n"
     ]
    }
   ],
   "source": [
    "# Display the cross-validated training performance for each model\n",
    "for name, model in fitted_models.items():\n",
    "    print( name, model.best_score_ )"
   ]
  },
  {
   "cell_type": "code",
   "execution_count": 21,
   "id": "c0dac98b",
   "metadata": {},
   "outputs": [
    {
     "name": "stdout",
     "output_type": "stream",
     "text": [
      "lasso\n",
      "--------\n",
      "R^2: 0.40888624694383724\n",
      "MAE: 85035.54249916306\n",
      "\n",
      "ridge\n",
      "--------\n",
      "R^2: 0.4093396476329719\n",
      "MAE: 84978.03564808937\n",
      "\n",
      "enet\n",
      "--------\n",
      "R^2: 0.40524513747655944\n",
      "MAE: 86298.63724146318\n",
      "\n",
      "rf\n",
      "--------\n",
      "R^2: 0.5692239323323502\n",
      "MAE: 68274.08348525468\n",
      "\n",
      "gb\n",
      "--------\n",
      "R^2: 0.5396899984684429\n",
      "MAE: 70621.43433472609\n",
      "\n"
     ]
    }
   ],
   "source": [
    "# Fit the test set using fitted models\n",
    "# Print the performance of each model in fitted_models on the test set\n",
    "\n",
    "for name, model in fitted_models.items():\n",
    "    # Predict test set using fitted lasso\n",
    "    pred = fitted_models[name].predict(x_test)\n",
    "    \n",
    "    print( name )\n",
    "    print( '--------' )\n",
    "    print( 'R^2:', r2_score(y_test, pred) )\n",
    "    print( 'MAE:', mean_absolute_error(y_test, pred) )\n",
    "    print( '')    "
   ]
  },
  {
   "cell_type": "code",
   "execution_count": 59,
   "id": "7eb4df23",
   "metadata": {},
   "outputs": [
    {
     "name": "stderr",
     "output_type": "stream",
     "text": [
      "/var/folders/d3/9ly5k4s50pn98c5j4xljd3h00000gn/T/ipykernel_3635/303705425.py:11: FutureWarning: The frame.append method is deprecated and will be removed from pandas in a future version. Use pandas.concat instead.\n",
      "  results_df = results_df.append(model_results, ignore_index=True)  # Append results to the DataFrame\n",
      "/var/folders/d3/9ly5k4s50pn98c5j4xljd3h00000gn/T/ipykernel_3635/303705425.py:11: FutureWarning: The frame.append method is deprecated and will be removed from pandas in a future version. Use pandas.concat instead.\n",
      "  results_df = results_df.append(model_results, ignore_index=True)  # Append results to the DataFrame\n",
      "/var/folders/d3/9ly5k4s50pn98c5j4xljd3h00000gn/T/ipykernel_3635/303705425.py:11: FutureWarning: The frame.append method is deprecated and will be removed from pandas in a future version. Use pandas.concat instead.\n",
      "  results_df = results_df.append(model_results, ignore_index=True)  # Append results to the DataFrame\n",
      "/var/folders/d3/9ly5k4s50pn98c5j4xljd3h00000gn/T/ipykernel_3635/303705425.py:11: FutureWarning: The frame.append method is deprecated and will be removed from pandas in a future version. Use pandas.concat instead.\n",
      "  results_df = results_df.append(model_results, ignore_index=True)  # Append results to the DataFrame\n",
      "/var/folders/d3/9ly5k4s50pn98c5j4xljd3h00000gn/T/ipykernel_3635/303705425.py:11: FutureWarning: The frame.append method is deprecated and will be removed from pandas in a future version. Use pandas.concat instead.\n",
      "  results_df = results_df.append(model_results, ignore_index=True)  # Append results to the DataFrame\n"
     ]
    },
    {
     "data": {
      "text/html": [
       "<div>\n",
       "<style scoped>\n",
       "    .dataframe tbody tr th:only-of-type {\n",
       "        vertical-align: middle;\n",
       "    }\n",
       "\n",
       "    .dataframe tbody tr th {\n",
       "        vertical-align: top;\n",
       "    }\n",
       "\n",
       "    .dataframe thead th {\n",
       "        text-align: right;\n",
       "    }\n",
       "</style>\n",
       "<table border=\"1\" class=\"dataframe\">\n",
       "  <thead>\n",
       "    <tr style=\"text-align: right;\">\n",
       "      <th></th>\n",
       "      <th>Model</th>\n",
       "      <th>MAE</th>\n",
       "      <th>R2 Square</th>\n",
       "    </tr>\n",
       "  </thead>\n",
       "  <tbody>\n",
       "    <tr>\n",
       "      <th>0</th>\n",
       "      <td>lasso</td>\n",
       "      <td>85035.54</td>\n",
       "      <td>0.41</td>\n",
       "    </tr>\n",
       "    <tr>\n",
       "      <th>1</th>\n",
       "      <td>ridge</td>\n",
       "      <td>84978.04</td>\n",
       "      <td>0.41</td>\n",
       "    </tr>\n",
       "    <tr>\n",
       "      <th>2</th>\n",
       "      <td>enet</td>\n",
       "      <td>86298.64</td>\n",
       "      <td>0.41</td>\n",
       "    </tr>\n",
       "    <tr>\n",
       "      <th>3</th>\n",
       "      <td>rf</td>\n",
       "      <td>68274.08</td>\n",
       "      <td>0.57</td>\n",
       "    </tr>\n",
       "    <tr>\n",
       "      <th>4</th>\n",
       "      <td>gb</td>\n",
       "      <td>70621.43</td>\n",
       "      <td>0.54</td>\n",
       "    </tr>\n",
       "  </tbody>\n",
       "</table>\n",
       "</div>"
      ],
      "text/plain": [
       "   Model       MAE  R2 Square\n",
       "0  lasso  85035.54       0.41\n",
       "1  ridge  84978.04       0.41\n",
       "2   enet  86298.64       0.41\n",
       "3     rf  68274.08       0.57\n",
       "4     gb  70621.43       0.54"
      ]
     },
     "execution_count": 59,
     "metadata": {},
     "output_type": "execute_result"
    }
   ],
   "source": [
    "# Let's create a data frame to display our metrics\n",
    "results_df = pd.DataFrame(columns=['Model', 'MAE', 'R2 Square'])  # Initialize an empty DataFrame\n",
    "\n",
    "for name, model in fitted_models.items():\n",
    "    # Predict test set using fitted lasso\n",
    "    pred = fitted_models[name].predict(x_test)\n",
    "    \n",
    "    model_results = pd.DataFrame(data=[[name, round(mean_absolute_error(y_test, pred), 2), round(r2_score(y_test, pred), 2)]],\n",
    "                                 columns=['Model', 'MAE', 'R2 Square'])\n",
    "    \n",
    "    results_df = results_df.append(model_results, ignore_index=True)  # Append results to the DataFrame\n",
    "\n",
    "results_df  # Display the final DataFrame\n"
   ]
  },
  {
   "cell_type": "markdown",
   "id": "f17d39fa",
   "metadata": {},
   "source": [
    "From reading the metrics, we can see that Random Forest has the **highest R2** and **lowest MAE**. Although Gradient Boosting Tree shows the best holdout R2 score from cross-validation, Random Forest is just slightly lower than it. Most importantly, RF satisfy our porject's win condition (lower than $70K). \n",
    "\n",
    "Finally, let's plot the performance of the winning model on the test set."
   ]
  },
  {
   "cell_type": "code",
   "execution_count": 66,
   "id": "93620a19",
   "metadata": {},
   "outputs": [
    {
     "data": {
      "image/png": "[encoded data removed]",
      "text/plain": [
       "<Figure size 500x500 with 1 Axes>"
      ]
     },
     "metadata": {},
     "output_type": "display_data"
    }
   ],
   "source": [
    "# Grab our winning model\n",
    "rf_pred = fitted_models['rf'].predict(x_test)\n",
    "# plot a scatter plot!\n",
    "plt.figure(figsize=(5,5))\n",
    "plt.scatter(rf_pred, y_test)\n",
    "plt.xlabel('predicted')\n",
    "plt.xlabel('actual')\n",
    "plt.show()"
   ]
  },
  {
   "cell_type": "markdown",
   "id": "fa8965b7",
   "metadata": {},
   "source": [
    "## Save our winning model"
   ]
  },
  {
   "cell_type": "code",
   "execution_count": 23,
   "id": "8dff4e11",
   "metadata": {},
   "outputs": [
    {
     "data": {
      "text/plain": [
       "sklearn.model_selection._search.GridSearchCV"
      ]
     },
     "execution_count": 23,
     "metadata": {},
     "output_type": "execute_result"
    }
   ],
   "source": [
    "type(fitted_models['rf'])"
   ]
  },
  {
   "cell_type": "code",
   "execution_count": 24,
   "id": "b70a05cc",
   "metadata": {},
   "outputs": [
    {
     "data": {
      "text/plain": [
       "sklearn.pipeline.Pipeline"
      ]
     },
     "execution_count": 24,
     "metadata": {},
     "output_type": "execute_result"
    }
   ],
   "source": [
    "type( fitted_models['rf'].best_estimator_ )"
   ]
  },
  {
   "cell_type": "code",
   "execution_count": 25,
   "id": "873a4d20",
   "metadata": {},
   "outputs": [
    {
     "data": {
      "text/html": [
       "<style>#sk-container-id-1 {color: black;background-color: white;}#sk-container-id-1 pre{padding: 0;}#sk-container-id-1 div.sk-toggleable {background-color: white;}#sk-container-id-1 label.sk-toggleable__label {cursor: pointer;display: block;width: 100%;margin-bottom: 0;padding: 0.3em;box-sizing: border-box;text-align: center;}#sk-container-id-1 label.sk-toggleable__label-arrow:before {content: \"▸\";float: left;margin-right: 0.25em;color: #696969;}#sk-container-id-1 label.sk-toggleable__label-arrow:hover:before {color: black;}#sk-container-id-1 div.sk-estimator:hover label.sk-toggleable__label-arrow:before {color: black;}#sk-container-id-1 div.sk-toggleable__content {max-height: 0;max-width: 0;overflow: hidden;text-align: left;background-color: #f0f8ff;}#sk-container-id-1 div.sk-toggleable__content pre {margin: 0.2em;color: black;border-radius: 0.25em;background-color: #f0f8ff;}#sk-container-id-1 input.sk-toggleable__control:checked~div.sk-toggleable__content {max-height: 200px;max-width: 100%;overflow: auto;}#sk-container-id-1 input.sk-toggleable__control:checked~label.sk-toggleable__label-arrow:before {content: \"▾\";}#sk-container-id-1 div.sk-estimator input.sk-toggleable__control:checked~label.sk-toggleable__label {background-color: #d4ebff;}#sk-container-id-1 div.sk-label input.sk-toggleable__control:checked~label.sk-toggleable__label {background-color: #d4ebff;}#sk-container-id-1 input.sk-hidden--visually {border: 0;clip: rect(1px 1px 1px 1px);clip: rect(1px, 1px, 1px, 1px);height: 1px;margin: -1px;overflow: hidden;padding: 0;position: absolute;width: 1px;}#sk-container-id-1 div.sk-estimator {font-family: monospace;background-color: #f0f8ff;border: 1px dotted black;border-radius: 0.25em;box-sizing: border-box;margin-bottom: 0.5em;}#sk-container-id-1 div.sk-estimator:hover {background-color: #d4ebff;}#sk-container-id-1 div.sk-parallel-item::after {content: \"\";width: 100%;border-bottom: 1px solid gray;flex-grow: 1;}#sk-container-id-1 div.sk-label:hover label.sk-toggleable__label {background-color: #d4ebff;}#sk-container-id-1 div.sk-serial::before {content: \"\";position: absolute;border-left: 1px solid gray;box-sizing: border-box;top: 0;bottom: 0;left: 50%;z-index: 0;}#sk-container-id-1 div.sk-serial {display: flex;flex-direction: column;align-items: center;background-color: white;padding-right: 0.2em;padding-left: 0.2em;position: relative;}#sk-container-id-1 div.sk-item {position: relative;z-index: 1;}#sk-container-id-1 div.sk-parallel {display: flex;align-items: stretch;justify-content: center;background-color: white;position: relative;}#sk-container-id-1 div.sk-item::before, #sk-container-id-1 div.sk-parallel-item::before {content: \"\";position: absolute;border-left: 1px solid gray;box-sizing: border-box;top: 0;bottom: 0;left: 50%;z-index: -1;}#sk-container-id-1 div.sk-parallel-item {display: flex;flex-direction: column;z-index: 1;position: relative;background-color: white;}#sk-container-id-1 div.sk-parallel-item:first-child::after {align-self: flex-end;width: 50%;}#sk-container-id-1 div.sk-parallel-item:last-child::after {align-self: flex-start;width: 50%;}#sk-container-id-1 div.sk-parallel-item:only-child::after {width: 0;}#sk-container-id-1 div.sk-dashed-wrapped {border: 1px dashed gray;margin: 0 0.4em 0.5em 0.4em;box-sizing: border-box;padding-bottom: 0.4em;background-color: white;}#sk-container-id-1 div.sk-label label {font-family: monospace;font-weight: bold;display: inline-block;line-height: 1.2em;}#sk-container-id-1 div.sk-label-container {text-align: center;}#sk-container-id-1 div.sk-container {/* jupyter's `normalize.less` sets `[hidden] { display: none; }` but bootstrap.min.css set `[hidden] { display: none !important; }` so we also need the `!important` here to be able to override the default hidden behavior on the sphinx rendered scikit-learn.org. See: https://github.com/scikit-learn/scikit-learn/issues/21755 */display: inline-block !important;position: relative;}#sk-container-id-1 div.sk-text-repr-fallback {display: none;}</style><div id=\"sk-container-id-1\" class=\"sk-top-container\"><div class=\"sk-text-repr-fallback\"><pre>Pipeline(steps=[(&#x27;standardscaler&#x27;, StandardScaler()),\n",
       "                (&#x27;randomforestregressor&#x27;,\n",
       "                 RandomForestRegressor(max_features=&#x27;auto&#x27;, n_estimators=200,\n",
       "                                       random_state=123))])</pre><b>In a Jupyter environment, please rerun this cell to show the HTML representation or trust the notebook. <br />On GitHub, the HTML representation is unable to render, please try loading this page with nbviewer.org.</b></div><div class=\"sk-container\" hidden><div class=\"sk-item sk-dashed-wrapped\"><div class=\"sk-label-container\"><div class=\"sk-label sk-toggleable\"><input class=\"sk-toggleable__control sk-hidden--visually\" id=\"sk-estimator-id-1\" type=\"checkbox\" ><label for=\"sk-estimator-id-1\" class=\"sk-toggleable__label sk-toggleable__label-arrow\">Pipeline</label><div class=\"sk-toggleable__content\"><pre>Pipeline(steps=[(&#x27;standardscaler&#x27;, StandardScaler()),\n",
       "                (&#x27;randomforestregressor&#x27;,\n",
       "                 RandomForestRegressor(max_features=&#x27;auto&#x27;, n_estimators=200,\n",
       "                                       random_state=123))])</pre></div></div></div><div class=\"sk-serial\"><div class=\"sk-item\"><div class=\"sk-estimator sk-toggleable\"><input class=\"sk-toggleable__control sk-hidden--visually\" id=\"sk-estimator-id-2\" type=\"checkbox\" ><label for=\"sk-estimator-id-2\" class=\"sk-toggleable__label sk-toggleable__label-arrow\">StandardScaler</label><div class=\"sk-toggleable__content\"><pre>StandardScaler()</pre></div></div></div><div class=\"sk-item\"><div class=\"sk-estimator sk-toggleable\"><input class=\"sk-toggleable__control sk-hidden--visually\" id=\"sk-estimator-id-3\" type=\"checkbox\" ><label for=\"sk-estimator-id-3\" class=\"sk-toggleable__label sk-toggleable__label-arrow\">RandomForestRegressor</label><div class=\"sk-toggleable__content\"><pre>RandomForestRegressor(max_features=&#x27;auto&#x27;, n_estimators=200, random_state=123)</pre></div></div></div></div></div></div></div>"
      ],
      "text/plain": [
       "Pipeline(steps=[('standardscaler', StandardScaler()),\n",
       "                ('randomforestregressor',\n",
       "                 RandomForestRegressor(max_features='auto', n_estimators=200,\n",
       "                                       random_state=123))])"
      ]
     },
     "execution_count": 25,
     "metadata": {},
     "output_type": "execute_result"
    }
   ],
   "source": [
    "fitted_models['rf'].best_estimator_"
   ]
  },
  {
   "cell_type": "markdown",
   "id": "89085acb",
   "metadata": {},
   "source": [
    "We can see from the pipeline that, the winning values for our hyperparameters are:\n",
    "\n",
    "* `n_estimators`: 200\n",
    "* `max_features` : 'auto'"
   ]
  },
  {
   "cell_type": "code",
   "execution_count": 26,
   "id": "ee78b36b",
   "metadata": {},
   "outputs": [],
   "source": [
    "# Save our winning model\n",
    "import pickle\n",
    "with open('final_model.pkl', 'wb') as f:\n",
    "    pickle.dump(fitted_models['rf'].best_estimator_, f)"
   ]
  },
  {
   "cell_type": "markdown",
   "id": "19ce1634",
   "metadata": {},
   "source": [
    "## References"
   ]
  },
  {
   "cell_type": "markdown",
   "id": "bb63b121",
   "metadata": {},
   "source": [
    "* [sklearn.ensemble.RandomForestClassifier](https://scikit-learn.org/stable/modules/generated/sklearn.ensemble.RandomForestClassifier.html)\n",
    "* [What is random forest?](https://www.ibm.com/topics/random-forest)"
   ]
  }
 ],
 "metadata": {
  "kernelspec": {
   "display_name": "Python 3 (ipykernel)",
   "language": "python",
   "name": "python3"
  },
  "language_info": {
   "codemirror_mode": {
    "name": "ipython",
    "version": 3
   },
   "file_extension": ".py",
   "mimetype": "text/x-python",
   "name": "python",
   "nbconvert_exporter": "python",
   "pygments_lexer": "ipython3",
   "version": "3.10.9"
  }
 },
 "nbformat": 4,
 "nbformat_minor": 5
}
